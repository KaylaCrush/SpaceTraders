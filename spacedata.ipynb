{
 "cells": [
  {
   "cell_type": "code",
   "execution_count": 1,
   "metadata": {},
   "outputs": [],
   "source": [
    "from spacebase import *\n",
    "from src.api import *\n",
    "import pandas as pd\n",
    "import datetime\n",
    "import pickle"
   ]
  },
  {
   "cell_type": "code",
   "execution_count": 2,
   "metadata": {},
   "outputs": [],
   "source": [
    "FILENAME = \"spacedata.pkl\""
   ]
  },
  {
   "cell_type": "code",
   "execution_count": 3,
   "metadata": {},
   "outputs": [],
   "source": [
    "def load_database():\n",
    "    return pd.read_pickle(FILENAME)"
   ]
  },
  {
   "cell_type": "code",
   "execution_count": 4,
   "metadata": {},
   "outputs": [],
   "source": [
    "def save_database(database):\n",
    "    return pickle.dump(database, open(FILENAME, 'wb'))"
   ]
  },
  {
   "cell_type": "code",
   "execution_count": 5,
   "metadata": {},
   "outputs": [],
   "source": [
    "database = load_database()"
   ]
  },
  {
   "cell_type": "code",
   "execution_count": 181,
   "metadata": {},
   "outputs": [],
   "source": [
    "save_database(database)"
   ]
  },
  {
   "cell_type": "code",
   "execution_count": 82,
   "metadata": {},
   "outputs": [],
   "source": [
    "database['markets'] = database['markets'].reset_index()"
   ]
  },
  {
   "cell_type": "code",
   "execution_count": 83,
   "metadata": {},
   "outputs": [],
   "source": [
    "database['markets'] = database['markets'].set_index(['location', 'date'])"
   ]
  },
  {
   "cell_type": "code",
   "execution_count": 94,
   "metadata": {},
   "outputs": [
    {
     "data": {
      "text/plain": [
       "'2022-07-17'"
      ]
     },
     "execution_count": 94,
     "metadata": {},
     "output_type": "execute_result"
    }
   ],
   "source": [
    "max(database['markets'].loc['OE-PM-TR'].index)"
   ]
  },
  {
   "cell_type": "code",
   "execution_count": 79,
   "metadata": {},
   "outputs": [
    {
     "data": {
      "text/plain": [
       "'2022-07-17'"
      ]
     },
     "execution_count": 79,
     "metadata": {},
     "output_type": "execute_result"
    }
   ],
   "source": [
    "datestr"
   ]
  },
  {
   "cell_type": "code",
   "execution_count": 95,
   "metadata": {},
   "outputs": [
    {
     "data": {
      "text/html": [
       "<div>\n",
       "<style scoped>\n",
       "    .dataframe tbody tr th:only-of-type {\n",
       "        vertical-align: middle;\n",
       "    }\n",
       "\n",
       "    .dataframe tbody tr th {\n",
       "        vertical-align: top;\n",
       "    }\n",
       "\n",
       "    .dataframe thead th {\n",
       "        text-align: right;\n",
       "    }\n",
       "</style>\n",
       "<table border=\"1\" class=\"dataframe\">\n",
       "  <thead>\n",
       "    <tr style=\"text-align: right;\">\n",
       "      <th></th>\n",
       "      <th>symbol</th>\n",
       "      <th>volumePerUnit</th>\n",
       "      <th>pricePerUnit</th>\n",
       "      <th>spread</th>\n",
       "      <th>purchasePricePerUnit</th>\n",
       "      <th>sellPricePerUnit</th>\n",
       "      <th>quantityAvailable</th>\n",
       "    </tr>\n",
       "    <tr>\n",
       "      <th>date</th>\n",
       "      <th></th>\n",
       "      <th></th>\n",
       "      <th></th>\n",
       "      <th></th>\n",
       "      <th></th>\n",
       "      <th></th>\n",
       "      <th></th>\n",
       "    </tr>\n",
       "  </thead>\n",
       "  <tbody>\n",
       "    <tr>\n",
       "      <th>2022-07-17</th>\n",
       "      <td>METALS</td>\n",
       "      <td>1</td>\n",
       "      <td>2</td>\n",
       "      <td>1</td>\n",
       "      <td>3</td>\n",
       "      <td>1</td>\n",
       "      <td>93751</td>\n",
       "    </tr>\n",
       "    <tr>\n",
       "      <th>2022-07-17</th>\n",
       "      <td>CONSTRUCTION_MATERIALS</td>\n",
       "      <td>1</td>\n",
       "      <td>140</td>\n",
       "      <td>4</td>\n",
       "      <td>144</td>\n",
       "      <td>136</td>\n",
       "      <td>0</td>\n",
       "    </tr>\n",
       "    <tr>\n",
       "      <th>2022-07-17</th>\n",
       "      <td>FUEL</td>\n",
       "      <td>1</td>\n",
       "      <td>2</td>\n",
       "      <td>1</td>\n",
       "      <td>3</td>\n",
       "      <td>1</td>\n",
       "      <td>87271</td>\n",
       "    </tr>\n",
       "    <tr>\n",
       "      <th>2022-07-17</th>\n",
       "      <td>FUSION_REACTORS</td>\n",
       "      <td>6</td>\n",
       "      <td>20400</td>\n",
       "      <td>196</td>\n",
       "      <td>20596</td>\n",
       "      <td>20204</td>\n",
       "      <td>0</td>\n",
       "    </tr>\n",
       "  </tbody>\n",
       "</table>\n",
       "</div>"
      ],
      "text/plain": [
       "                            symbol  volumePerUnit  pricePerUnit  spread  \\\n",
       "date                                                                      \n",
       "2022-07-17                  METALS              1             2       1   \n",
       "2022-07-17  CONSTRUCTION_MATERIALS              1           140       4   \n",
       "2022-07-17                    FUEL              1             2       1   \n",
       "2022-07-17         FUSION_REACTORS              6         20400     196   \n",
       "\n",
       "            purchasePricePerUnit  sellPricePerUnit  quantityAvailable  \n",
       "date                                                                   \n",
       "2022-07-17                     3                 1              93751  \n",
       "2022-07-17                   144               136                  0  \n",
       "2022-07-17                     3                 1              87271  \n",
       "2022-07-17                 20596             20204                  0  "
      ]
     },
     "execution_count": 95,
     "metadata": {},
     "output_type": "execute_result"
    }
   ],
   "source": [
    "database['markets'].loc['OE-PM-TR'].loc[max(database['markets'].loc['OE-PM-TR'].index)]"
   ]
  },
  {
   "cell_type": "code",
   "execution_count": 51,
   "metadata": {},
   "outputs": [
    {
     "data": {
      "text/plain": [
       "{'username': 'crushbone',\n",
       " 'shipCount': 2,\n",
       " 'structureCount': 0,\n",
       " 'joinedAt': '2022-07-03T20:54:08.115Z',\n",
       " 'credits': 685213}"
      ]
     },
     "execution_count": 51,
     "metadata": {},
     "output_type": "execute_result"
    }
   ],
   "source": [
    "database['user']"
   ]
  },
  {
   "cell_type": "code",
   "execution_count": 98,
   "metadata": {},
   "outputs": [
    {
     "data": {
      "text/plain": [
       "location                                                      OE-NY\n",
       "x                                                                43\n",
       "y                                                               -46\n",
       "cargo             [{'good': 'FUEL', 'quantity': 14, 'totalVolume...\n",
       "spaceAvailable                                                   36\n",
       "type                                                        JW-MK-I\n",
       "class                                                          MK-I\n",
       "maxCargo                                                         50\n",
       "loadingSpeed                                                     25\n",
       "speed                                                             1\n",
       "manufacturer                                               Jackshaw\n",
       "plating                                                           5\n",
       "weapons                                                           5\n",
       "Name: cl55thau617774315s68iz3fpjj, dtype: object"
      ]
     },
     "execution_count": 98,
     "metadata": {},
     "output_type": "execute_result"
    }
   ],
   "source": [
    "database['myShips'].loc['cl55thau617774315s68iz3fpjj']"
   ]
  },
  {
   "cell_type": "code",
   "execution_count": 164,
   "metadata": {},
   "outputs": [
    {
     "data": {
      "text/plain": [
       "[{'good': 'FUEL', 'quantity': 14, 'totalVolume': 14}]"
      ]
     },
     "execution_count": 164,
     "metadata": {},
     "output_type": "execute_result"
    }
   ],
   "source": [
    "database['myShips'].loc['cl55thau617774315s68iz3fpjj'].cargo"
   ]
  },
  {
   "cell_type": "code",
   "execution_count": 180,
   "metadata": {},
   "outputs": [
    {
     "name": "stderr",
     "output_type": "stream",
     "text": [
      "C:\\Users\\kayla\\AppData\\Local\\Temp\\ipykernel_16564\\2394785272.py:5: SettingWithCopyWarning: \n",
      "A value is trying to be set on a copy of a slice from a DataFrame\n",
      "\n",
      "See the caveats in the documentation: https://pandas.pydata.org/pandas-docs/stable/user_guide/indexing.html#returning-a-view-versus-a-copy\n",
      "  database['myShips'].loc[ship[1].name].cargo = cargo\n"
     ]
    }
   ],
   "source": [
    "for ship in database['myShips'].iterrows():\n",
    "    cargo = {}\n",
    "    for item in ship[1].cargo:\n",
    "        cargo[item['good']] = {'quantity': item['quantity'], 'totalVolume': item['totalVolume']}\n",
    "    database['myShips'].loc[ship[1].name].cargo = cargo"
   ]
  },
  {
   "cell_type": "code",
   "execution_count": 174,
   "metadata": {},
   "outputs": [
    {
     "data": {
      "text/plain": [
       "[{'good': 'FUEL', 'quantity': 14, 'totalVolume': 14}]"
      ]
     },
     "execution_count": 174,
     "metadata": {},
     "output_type": "execute_result"
    }
   ],
   "source": [
    "database['myShips'].cargo.cl55thau617774315s68iz3fpjj"
   ]
  },
  {
   "cell_type": "code",
   "execution_count": 135,
   "metadata": {},
   "outputs": [],
   "source": [
    "sample_ship = pd.DataFrame(get_ships()[0]).set_index('id')"
   ]
  },
  {
   "cell_type": "code",
   "execution_count": 152,
   "metadata": {},
   "outputs": [],
   "source": [
    "sample_cargo = sample_ship.cargo.cl55thau617774315s68iz3fpjj"
   ]
  },
  {
   "cell_type": "code",
   "execution_count": 160,
   "metadata": {},
   "outputs": [
    {
     "data": {
      "text/html": [
       "<div>\n",
       "<style scoped>\n",
       "    .dataframe tbody tr th:only-of-type {\n",
       "        vertical-align: middle;\n",
       "    }\n",
       "\n",
       "    .dataframe tbody tr th {\n",
       "        vertical-align: top;\n",
       "    }\n",
       "\n",
       "    .dataframe thead th {\n",
       "        text-align: right;\n",
       "    }\n",
       "</style>\n",
       "<table border=\"1\" class=\"dataframe\">\n",
       "  <thead>\n",
       "    <tr style=\"text-align: right;\">\n",
       "      <th></th>\n",
       "      <th>quantity</th>\n",
       "      <th>totalVolume</th>\n",
       "    </tr>\n",
       "    <tr>\n",
       "      <th>good</th>\n",
       "      <th></th>\n",
       "      <th></th>\n",
       "    </tr>\n",
       "  </thead>\n",
       "  <tbody>\n",
       "    <tr>\n",
       "      <th>FUEL</th>\n",
       "      <td>14</td>\n",
       "      <td>14</td>\n",
       "    </tr>\n",
       "  </tbody>\n",
       "</table>\n",
       "</div>"
      ],
      "text/plain": [
       "      quantity  totalVolume\n",
       "good                       \n",
       "FUEL        14           14"
      ]
     },
     "execution_count": 160,
     "metadata": {},
     "output_type": "execute_result"
    }
   ],
   "source": [
    "pd.DataFrame(sample_cargo, index=[0]).set_index('good')"
   ]
  },
  {
   "cell_type": "code",
   "execution_count": 126,
   "metadata": {},
   "outputs": [],
   "source": [
    "sample_cargo = database['myShips'].loc['cl55thau617774315s68iz3fpjj'].cargo"
   ]
  },
  {
   "cell_type": "code",
   "execution_count": 13,
   "metadata": {},
   "outputs": [],
   "source": [
    "# PLAYER INFO\n",
    "def get_my_status():\n",
    "  return database['user']\n",
    "  \n",
    "def get_money():\n",
    "  return get_my_status()['credits']\n",
    "\n",
    "# FLIGHTPLAN\n",
    "def get_flightplan(flightPlan_id):\n",
    "  return database['flightPlans'].loc(flightPlan_id)\n",
    "  return make_request(f'{flightplan_url}/{flightPlan_id}', params=params).json()['flightPlan']\n",
    "  \n",
    "def make_flightplan(ship_id, destination):\n",
    "  new_data = make_request(f'{flightplan_url}', params={'shipId':ship_id, 'destination':destination}, type=\"POST\").json()['flightPlan']\n",
    "  database['flightPlans'] = pd.concat([database['flightPlans'], new_data], ignore_index = True)\n",
    "  return new_data\n",
    "\n",
    "# LOANS\n",
    "def get_loans():\n",
    "  return database['loans']\n",
    "  return make_request(url= f'{loans_url}').json()['loans']\n",
    "\n",
    "def pay_loan(loan_id):\n",
    "  return make_request(f'{loans_url}/{loan_id}', type=\"PUT\").json()\n",
    "\n",
    "def take_loan(loan_type):\n",
    "  return make_request(f'{loans_url}', params={'type':loan_type}, type=\"POST\").json()\n",
    "\n",
    "# LOCATIONS\n",
    "def get_location_data(location_id, params={}):\n",
    "  return database['locations'].query(f\"symbol == {location_id}\")\n",
    "  return make_request(f'{location_url}/{location_id}', params=params).json()['location']\n",
    "\n",
    "def get_market_data(location_id, params={}):\n",
    "  return database['markets'].loc[location_id].loc[max(database['markets'].loc[location_id].index)]\n",
    "  return make_request(f'{location_url}/{location_id}/marketplace', params=params).json()['marketplace']\n",
    "\n",
    "def get_ships(location_id, params={}):\n",
    "  return database['ships'].query(f\"location == {location_id}\")\n",
    "  return make_request(f'{location_url}/{location_id}/ships', params=params).json()['ships']\n",
    "\n",
    "def get_structures(location_id, params={}): # TODO\n",
    "  return make_request(f'{location_url}/{location_id}/structures', params=params).json()['structures']\n",
    "\n",
    "# COMMERCE\n",
    "def purchace_goods(ship_id, good, quantity):\n",
    "  new_data = make_request(f'{purchace_url}', params={'shipId':ship_id,'quantity':quantity,'good':good}, type='POST').json()\n",
    "  database['myShips'].query(f\"id == '{ship_id}'\").update(new_data['ship'])\n",
    "  database['user']['credits'] = new_data['credits']\n",
    "  return new_data\n",
    "\n",
    "def sell_goods(ship_id, good, quantity):\n",
    "  new_data = make_request(f'{sell_url}', params={'shipId':ship_id,'quantity':quantity,'good':good}, type='POST').json()\n",
    "  database['myShips'].query(f\"id == '{ship_id}'\").update(new_data['ship'])\n",
    "  database['user']['credits'] = new_data['credits']\n",
    "  return new_data\n",
    "\n",
    "def fuel_ship(ship_id,fuel_amount): #\n",
    "  return purchace_goods(f'{ship_id}', 'FUEL', fuel_amount).json()\n",
    "\n",
    "# SHIPS\n",
    "def buy_ship(location, type):\n",
    "  new_data = make_request(f'{myShips_url}',params = {'location': location, 'type': type}, type = \"POST\").json()\n",
    "  database['myShips'] =  pd.concat([database['myShips'], new_data['ship']], ignore_index = True)\n",
    "  database['user']['credits'] = new_data['credits']\n",
    "  return new_data\n",
    "\n",
    "def get_ships(params={}):\n",
    "  return database['myShips']\n",
    "\n",
    "def get_ship_data(ship_id, params={}):\n",
    "  return database['myShips'].loc[ship_id]\n",
    "  return make_request(f'{myShips_url}/{ship_id}', params=params).json()['ship']\n",
    "\n",
    "def jettison_ship_cargo(ship_id, good, quantity):\n",
    "  return make_request(f'{myShips_url}/{ship_id}/jettison', params = {'shipId':ship_id, 'good':good, 'quantity':quantity}, type=\"POST\").json()\n",
    "\n",
    "def scrap_ship(ship_id):\n",
    "  return make_request(f'{myShips_url}/{ship_id}', type = \"DELETE\").json()\n",
    "\n",
    "def transfer_ship_cargo(from_ship_id, to_ship_id, good, quantity):\n",
    "  return make_request(f'{myShips_url}/{from_ship_id}', params = {'toShipId':to_ship_id, 'good': good,'quantity':quantity}, type =\"POST\").json()\n",
    "\n",
    "#STRUCTURES\n",
    "def get_structure_data(structure_id):\n",
    "  return make_request(f'{struct_url}/{structure_id}')['structure']\n",
    "\n",
    "def get_my_structure_data(structure_id):\n",
    "  return make_request(f'{my_struct_url}/{structure_id}')['structure']\n",
    "\n",
    "def get_my_structures():\n",
    "  return make_request(f'{my_struct_url}')['structures']\n",
    "\n",
    "def create_structure(location_id, structure_type):\n",
    "  return make_request(f'{my_struct_url}', params = {'location': location_id, 'type': structure_type}).json()['structure']\n",
    "\n",
    "def deposit_goods_to_owned_structure(structure_id, ship_id, good, quantity):\n",
    "  return make_request(f'{my_struct_url}/deposit', params = {'structureId': structure_id, 'shipId': ship_id, 'good': good, 'quantity': quantity}).json()\n",
    "\n",
    "def deposit_goods_to_public_structure(structure_id, ship_id, good, quantity):\n",
    "  return make_request(f'{struct_url}/{structure_id}/deposit', params = {'structureId': structure_id, 'shipId': ship_id, 'good': good, 'quantity': quantity}).json()\n",
    "\n",
    "def transfer_goods_from_owned_structure(structure_id, ship_id, good, quantity):\n",
    "  return make_request(f'{my_struct_url}/transfer', params = {'structureId': structure_id, 'shipId': ship_id, 'good': good, 'quantity': quantity}).json()\n",
    "\n",
    "#SYSTEMS\n",
    "def get_system_ship_listings(system_id, params={}):\n",
    "  return make_request(f'{system_url}/{system_id}/ship-listings', params=params).json()['shipListings']\n",
    "\n",
    "def get_system_flightplans(system_id, params ={}):\n",
    "  return make_request(f'{system_url}/{system_id}/flight-plans', params=params).json()['flightPlans']\n",
    "\n",
    "def get_system_ships(system_id, params={}):\n",
    "  return make_request(f'{system_url}/{system_id}/ships', params=params).json()['ships']\n",
    "\n",
    "def get_system_locations(system_id, params={}):\n",
    "  return make_request(f'{system_url}/{system_id}/locations', params=params).json()['locations']\n",
    "\n",
    "def get_system_data(system_id, params={}):\n",
    "  return make_request(f'{system_url}/{system_id}', params = params).json()['system']\n",
    "\n",
    "#TYPES\n",
    "def get_available_goods(params={}):\n",
    "  return make_request(f'{types_url}/goods', params=params).json()['goods']\n",
    "\n",
    "def get_available_loans(params={}):\n",
    "  return make_request(f'{types_url}/loans').json()['loans']\n",
    "\n",
    "def get_available_structures(params={}):\n",
    "  return make_request(f'{types_url}/structures').json()['structures']\n",
    "\n",
    "def get_available_ships(params={}):\n",
    "  return make_request(f'{types_url}/ships').json()['ships']\n",
    "\n",
    "#USERS\n",
    "def claim_username(username):\n",
    "  response = make_request(f'https://api.spacetraders.io/users/{username}/claim').json()\n",
    "  [print(key,':',value) for key, value in response.items()]\n",
    "  return print()\n",
    "\n",
    "def warp_jump(ship_id):\n",
    "  return make_request(f'https://api.spacetraders.io/my/warp-jumps', params={'shipId':ship_id}).json()['flightPlan']\n"
   ]
  },
  {
   "cell_type": "code",
   "execution_count": 20,
   "metadata": {},
   "outputs": [],
   "source": [
    "def initialize_database(): ## TODO THIS SUCKS\n",
    "    return {\"locations\":pandas.DataFrame({}),\n",
    "    \"goods\":pandas.DataFrame({}),\n",
    "    \"loans\":pandas.DataFrame({}),\n",
    "    \"structures\":pandas.DataFrame({}),\n",
    "    \"ships\":pandas.DataFrame({}),\n",
    "    \"user\":{},\"flightPlans\":pandas.DataFrame({}),\n",
    "    \"markets\":pandas.DataFrame({}),\n",
    "    \"myShips\":pandas.DataFrame({}),\n",
    "    \"myStructures\":pandas.DataFrame({})}"
   ]
  },
  {
   "cell_type": "code",
   "execution_count": 43,
   "metadata": {},
   "outputs": [
    {
     "data": {
      "text/html": [
       "<div>\n",
       "<style scoped>\n",
       "    .dataframe tbody tr th:only-of-type {\n",
       "        vertical-align: middle;\n",
       "    }\n",
       "\n",
       "    .dataframe tbody tr th {\n",
       "        vertical-align: top;\n",
       "    }\n",
       "\n",
       "    .dataframe thead th {\n",
       "        text-align: right;\n",
       "    }\n",
       "</style>\n",
       "<table border=\"1\" class=\"dataframe\">\n",
       "  <thead>\n",
       "    <tr style=\"text-align: right;\">\n",
       "      <th></th>\n",
       "      <th>symbol</th>\n",
       "      <th>type</th>\n",
       "      <th>name</th>\n",
       "      <th>x</th>\n",
       "      <th>y</th>\n",
       "      <th>allowsConstruction</th>\n",
       "      <th>traits</th>\n",
       "      <th>messages</th>\n",
       "    </tr>\n",
       "  </thead>\n",
       "  <tbody>\n",
       "    <tr>\n",
       "      <th>0</th>\n",
       "      <td>OE-PM</td>\n",
       "      <td>PLANET</td>\n",
       "      <td>Prime</td>\n",
       "      <td>-19</td>\n",
       "      <td>3</td>\n",
       "      <td>False</td>\n",
       "      <td>[METAL_ORES, SOME_NATURAL_CHEMICALS]</td>\n",
       "      <td>NaN</td>\n",
       "    </tr>\n",
       "  </tbody>\n",
       "</table>\n",
       "</div>"
      ],
      "text/plain": [
       "  symbol    type   name   x  y  allowsConstruction  \\\n",
       "0  OE-PM  PLANET  Prime -19  3               False   \n",
       "\n",
       "                                 traits messages  \n",
       "0  [METAL_ORES, SOME_NATURAL_CHEMICALS]      NaN  "
      ]
     },
     "execution_count": 43,
     "metadata": {},
     "output_type": "execute_result"
    }
   ],
   "source": [
    "database['locations'].query(\"symbol == 'OE-PM'\")"
   ]
  },
  {
   "cell_type": "code",
   "execution_count": 51,
   "metadata": {},
   "outputs": [],
   "source": [
    "def update_markets(location):\n",
    "    if not ships_present(location): print(f\"ERROR: NO SHIPS PRESENT AT {location}\")\n",
    "    else:\n",
    "        data = get_market_data(location)\n",
    "        timestamp = str(datetime.datetime.today())\n",
    "        for datum in data:\n",
    "            datum['location'] = location\n",
    "            datum['date'] = pd.to_datetime(timestamp)\n",
    "\n",
    "        database['markets'] = pd.concat([database['markets'], pd.DataFrame(data)])\n",
    "        "
   ]
  },
  {
   "cell_type": "code",
   "execution_count": 9,
   "metadata": {},
   "outputs": [
    {
     "data": {
      "text/html": [
       "<div>\n",
       "<style scoped>\n",
       "    .dataframe tbody tr th:only-of-type {\n",
       "        vertical-align: middle;\n",
       "    }\n",
       "\n",
       "    .dataframe tbody tr th {\n",
       "        vertical-align: top;\n",
       "    }\n",
       "\n",
       "    .dataframe thead th {\n",
       "        text-align: right;\n",
       "    }\n",
       "</style>\n",
       "<table border=\"1\" class=\"dataframe\">\n",
       "  <thead>\n",
       "    <tr style=\"text-align: right;\">\n",
       "      <th></th>\n",
       "      <th>symbol</th>\n",
       "      <th>volumePerUnit</th>\n",
       "      <th>pricePerUnit</th>\n",
       "      <th>spread</th>\n",
       "      <th>purchasePricePerUnit</th>\n",
       "      <th>sellPricePerUnit</th>\n",
       "      <th>quantityAvailable</th>\n",
       "      <th>location</th>\n",
       "      <th>date</th>\n",
       "    </tr>\n",
       "  </thead>\n",
       "  <tbody>\n",
       "    <tr>\n",
       "      <th>0</th>\n",
       "      <td>METALS</td>\n",
       "      <td>1</td>\n",
       "      <td>2</td>\n",
       "      <td>1</td>\n",
       "      <td>3</td>\n",
       "      <td>1</td>\n",
       "      <td>93751</td>\n",
       "      <td>OE-PM-TR</td>\n",
       "      <td>2022-07-17</td>\n",
       "    </tr>\n",
       "    <tr>\n",
       "      <th>1</th>\n",
       "      <td>CONSTRUCTION_MATERIALS</td>\n",
       "      <td>1</td>\n",
       "      <td>140</td>\n",
       "      <td>4</td>\n",
       "      <td>144</td>\n",
       "      <td>136</td>\n",
       "      <td>0</td>\n",
       "      <td>OE-PM-TR</td>\n",
       "      <td>2022-07-17</td>\n",
       "    </tr>\n",
       "    <tr>\n",
       "      <th>2</th>\n",
       "      <td>FUEL</td>\n",
       "      <td>1</td>\n",
       "      <td>2</td>\n",
       "      <td>1</td>\n",
       "      <td>3</td>\n",
       "      <td>1</td>\n",
       "      <td>87271</td>\n",
       "      <td>OE-PM-TR</td>\n",
       "      <td>2022-07-17</td>\n",
       "    </tr>\n",
       "    <tr>\n",
       "      <th>3</th>\n",
       "      <td>FUSION_REACTORS</td>\n",
       "      <td>6</td>\n",
       "      <td>20400</td>\n",
       "      <td>196</td>\n",
       "      <td>20596</td>\n",
       "      <td>20204</td>\n",
       "      <td>0</td>\n",
       "      <td>OE-PM-TR</td>\n",
       "      <td>2022-07-17</td>\n",
       "    </tr>\n",
       "    <tr>\n",
       "      <th>0</th>\n",
       "      <td>METALS</td>\n",
       "      <td>1</td>\n",
       "      <td>2</td>\n",
       "      <td>1</td>\n",
       "      <td>3</td>\n",
       "      <td>1</td>\n",
       "      <td>93591</td>\n",
       "      <td>OE-NY</td>\n",
       "      <td>2022-07-17</td>\n",
       "    </tr>\n",
       "    <tr>\n",
       "      <th>1</th>\n",
       "      <td>NARCOTICS</td>\n",
       "      <td>1</td>\n",
       "      <td>115</td>\n",
       "      <td>5</td>\n",
       "      <td>120</td>\n",
       "      <td>110</td>\n",
       "      <td>14</td>\n",
       "      <td>OE-NY</td>\n",
       "      <td>2022-07-17</td>\n",
       "    </tr>\n",
       "    <tr>\n",
       "      <th>2</th>\n",
       "      <td>FUEL</td>\n",
       "      <td>1</td>\n",
       "      <td>32</td>\n",
       "      <td>1</td>\n",
       "      <td>33</td>\n",
       "      <td>31</td>\n",
       "      <td>22625</td>\n",
       "      <td>OE-NY</td>\n",
       "      <td>2022-07-17</td>\n",
       "    </tr>\n",
       "    <tr>\n",
       "      <th>3</th>\n",
       "      <td>EXPLOSIVES</td>\n",
       "      <td>1</td>\n",
       "      <td>92</td>\n",
       "      <td>2</td>\n",
       "      <td>94</td>\n",
       "      <td>90</td>\n",
       "      <td>10</td>\n",
       "      <td>OE-NY</td>\n",
       "      <td>2022-07-17</td>\n",
       "    </tr>\n",
       "    <tr>\n",
       "      <th>4</th>\n",
       "      <td>FOOD</td>\n",
       "      <td>1</td>\n",
       "      <td>35</td>\n",
       "      <td>1</td>\n",
       "      <td>36</td>\n",
       "      <td>34</td>\n",
       "      <td>11</td>\n",
       "      <td>OE-NY</td>\n",
       "      <td>2022-07-17</td>\n",
       "    </tr>\n",
       "    <tr>\n",
       "      <th>5</th>\n",
       "      <td>RARE_METALS</td>\n",
       "      <td>1</td>\n",
       "      <td>48</td>\n",
       "      <td>4</td>\n",
       "      <td>52</td>\n",
       "      <td>44</td>\n",
       "      <td>47359</td>\n",
       "      <td>OE-NY</td>\n",
       "      <td>2022-07-17</td>\n",
       "    </tr>\n",
       "  </tbody>\n",
       "</table>\n",
       "</div>"
      ],
      "text/plain": [
       "                   symbol  volumePerUnit  pricePerUnit  spread  \\\n",
       "0                  METALS              1             2       1   \n",
       "1  CONSTRUCTION_MATERIALS              1           140       4   \n",
       "2                    FUEL              1             2       1   \n",
       "3         FUSION_REACTORS              6         20400     196   \n",
       "0                  METALS              1             2       1   \n",
       "1               NARCOTICS              1           115       5   \n",
       "2                    FUEL              1            32       1   \n",
       "3              EXPLOSIVES              1            92       2   \n",
       "4                    FOOD              1            35       1   \n",
       "5             RARE_METALS              1            48       4   \n",
       "\n",
       "   purchasePricePerUnit  sellPricePerUnit  quantityAvailable  location  \\\n",
       "0                     3                 1              93751  OE-PM-TR   \n",
       "1                   144               136                  0  OE-PM-TR   \n",
       "2                     3                 1              87271  OE-PM-TR   \n",
       "3                 20596             20204                  0  OE-PM-TR   \n",
       "0                     3                 1              93591     OE-NY   \n",
       "1                   120               110                 14     OE-NY   \n",
       "2                    33                31              22625     OE-NY   \n",
       "3                    94                90                 10     OE-NY   \n",
       "4                    36                34                 11     OE-NY   \n",
       "5                    52                44              47359     OE-NY   \n",
       "\n",
       "         date  \n",
       "0  2022-07-17  \n",
       "1  2022-07-17  \n",
       "2  2022-07-17  \n",
       "3  2022-07-17  \n",
       "0  2022-07-17  \n",
       "1  2022-07-17  \n",
       "2  2022-07-17  \n",
       "3  2022-07-17  \n",
       "4  2022-07-17  \n",
       "5  2022-07-17  "
      ]
     },
     "execution_count": 9,
     "metadata": {},
     "output_type": "execute_result"
    }
   ],
   "source": [
    "database['markets']"
   ]
  },
  {
   "cell_type": "code",
   "execution_count": null,
   "metadata": {},
   "outputs": [],
   "source": []
  }
 ],
 "metadata": {
  "kernelspec": {
   "display_name": "Python 3.10.5 64-bit",
   "language": "python",
   "name": "python3"
  },
  "language_info": {
   "codemirror_mode": {
    "name": "ipython",
    "version": 3
   },
   "file_extension": ".py",
   "mimetype": "text/x-python",
   "name": "python",
   "nbconvert_exporter": "python",
   "pygments_lexer": "ipython3",
   "version": "3.10.5"
  },
  "orig_nbformat": 4,
  "vscode": {
   "interpreter": {
    "hash": "300fbccfaa1afd04bb86653fbdee52f26c731e37f5150715ebdacf05ee18f2ba"
   }
  }
 },
 "nbformat": 4,
 "nbformat_minor": 2
}
