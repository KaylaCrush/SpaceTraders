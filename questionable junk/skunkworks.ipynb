{
 "cells": [
  {
   "cell_type": "code",
   "execution_count": 2,
   "metadata": {},
   "outputs": [],
   "source": [
    "import tkinter as tk\n",
    "from tkinter import ttk\n",
    "\n",
    "\n",
    "class App(tk.Tk):\n",
    "    def __init__(self):\n",
    "        super().__init__()\n",
    "        self.title('Tkinter PhotoImage Demo')\n",
    "        self.geometry('320x150')\n",
    "\n",
    "        self.python_image = tk.PhotoImage(file='data/img/locations/OE-PM.png')\n",
    "        ttk.Label(self, image=self.python_image).pack()\n",
    "\n",
    "\n",
    "if __name__ == \"__main__\":\n",
    "    app = App()\n",
    "    app.mainloop()"
   ]
  },
  {
   "cell_type": "code",
   "execution_count": null,
   "metadata": {},
   "outputs": [],
   "source": []
  },
  {
   "cell_type": "code",
   "execution_count": 10,
   "metadata": {},
   "outputs": [],
   "source": [
    "from spacebase import *\n",
    "import sqlite3\n",
    "import datetime\n",
    "from tkinter import *\n",
    "\n",
    "conn = sqlite3.connect('./spacetraders.db')\n",
    "cursor = conn.cursor()\n",
    "\n",
    "def sql_command(command):\n",
    "    return cursor.execute(command)"
   ]
  },
  {
   "cell_type": "code",
   "execution_count": 15,
   "metadata": {},
   "outputs": [],
   "source": [
    "from tkinter import ttk\n",
    "window = Tk()\n",
    "frame = ttk.Frame(window, padding=10)\n",
    "frame.grid()\n",
    "ttk.Label(frame, text=\"Hello, World!\").grid(column=0, row=0)\n",
    "ttk.Button(frame, text=\"Quit\", command= window.destroy).grid(column=1, row=0)\n",
    "window.mainloop()\n",
    "#window.mainloop()"
   ]
  },
  {
   "cell_type": "code",
   "execution_count": 7,
   "metadata": {},
   "outputs": [
    {
     "data": {
      "text/plain": [
       "{'symbol': 'CONSTRUCTION_MATERIALS',\n",
       " 'volumePerUnit': 1,\n",
       " 'pricePerUnit': 30,\n",
       " 'spread': 3,\n",
       " 'purchasePricePerUnit': 33,\n",
       " 'sellPricePerUnit': 27,\n",
       " 'quantityAvailable': 70610}"
      ]
     },
     "execution_count": 7,
     "metadata": {},
     "output_type": "execute_result"
    }
   ],
   "source": [
    "get_market_data('OE-KO')['marketplace'][0]"
   ]
  },
  {
   "cell_type": "code",
   "execution_count": 2,
   "metadata": {},
   "outputs": [],
   "source": [
    "def sql_insert(table_name, items):\n",
    "    for key, value in items.items():\n",
    "        if type(value) == str and value[0] != '\"':\n",
    "            items[key] = f'\"{value}\"'\n",
    "    keys = \", \".join([str(key) for key in items.keys()])\n",
    "    values = \", \".join([str(value) for value in items.values()])\n",
    "    string = f\"\"\"INSERT INTO {table_name} ({keys}) VALUES ({values})\"\"\"\n",
    "    sql_command(string)\n",
    "    \n",
    "        "
   ]
  },
  {
   "cell_type": "code",
   "execution_count": 6,
   "metadata": {},
   "outputs": [],
   "source": [
    "for good in get_market_data('OE-KO')['marketplace']:\n",
    "    ts = datetime.datetime.now()\n",
    "    datestring = f\"{ts.year}-{ts.month}-{ts.day} {ts.hour}:{ts.minute}:{ts.second}\"\n",
    "    good['location'] = 'OE-KO'\n",
    "    good['date'] = datestring\n",
    "    sql_insert('markets', good)\n",
    "    conn.commit()\n"
   ]
  },
  {
   "cell_type": "code",
   "execution_count": 50,
   "metadata": {},
   "outputs": [
    {
     "data": {
      "text/plain": [
       "'somestring'"
      ]
     },
     "execution_count": 50,
     "metadata": {},
     "output_type": "execute_result"
    }
   ],
   "source": [
    "str(\"somestring\")"
   ]
  },
  {
   "cell_type": "code",
   "execution_count": 4,
   "metadata": {},
   "outputs": [
    {
     "data": {
      "text/plain": [
       "<sqlite3.Cursor at 0x270e78636c0>"
      ]
     },
     "execution_count": 4,
     "metadata": {},
     "output_type": "execute_result"
    }
   ],
   "source": [
    "sql_command(\"delete from markets\")"
   ]
  },
  {
   "cell_type": "code",
   "execution_count": 5,
   "metadata": {},
   "outputs": [],
   "source": [
    "conn.commit()"
   ]
  },
  {
   "cell_type": "code",
   "execution_count": 26,
   "metadata": {},
   "outputs": [],
   "source": [
    "for location in get_system_locations('OE'):\n",
    "    symbol = location['symbol']\n",
    "    loc_type = location['type']\n",
    "    name = location['name']\n",
    "    x = location['x']\n",
    "    y = location['y']\n",
    "    allows_construction = location['allowsConstruction']\n",
    "    traits = \" \".join(location['traits'])\n",
    "    string = f\"\"\"INSERT INTO locations (symbol, type, name, X, Y, allowsConstruction, traits) VALUES (\"{symbol}\", \"{loc_type}\", \"{name}\", {x}, {y}, {allows_construction}, \"{traits}\");\"\"\"\n",
    "    sql_command(string)\n",
    "conn.commit()"
   ]
  },
  {
   "cell_type": "code",
   "execution_count": 30,
   "metadata": {},
   "outputs": [],
   "source": [
    "for ship in get_ships():\n",
    "    cargo = ship['cargo']\n",
    "    ship_id = ship['id']\n",
    "    for item in cargo:\n",
    "        good = item['good']\n",
    "        quantity = item['quantity']\n",
    "        total_volume = item['totalVolume']\n",
    "    string = f\"\"\"INSERT INTO cargo (good, quantity, totalVolume, shipId) VALUES (\"{good}\", {quantity}, {total_volume}, \"{ship_id}\");\"\"\"\n",
    "    sql_command(string)\n",
    "conn.commit()"
   ]
  },
  {
   "cell_type": "code",
   "execution_count": 28,
   "metadata": {},
   "outputs": [
    {
     "data": {
      "text/plain": [
       "[{'good': 'FUEL', 'quantity': 31, 'totalVolume': 31}]"
      ]
     },
     "execution_count": 28,
     "metadata": {},
     "output_type": "execute_result"
    }
   ],
   "source": [
    "get_ships()[0]['cargo']\n"
   ]
  },
  {
   "cell_type": "code",
   "execution_count": 8,
   "metadata": {},
   "outputs": [
    {
     "ename": "NameError",
     "evalue": "name 'datetime' is not defined",
     "output_type": "error",
     "traceback": [
      "\u001b[1;31m---------------------------------------------------------------------------\u001b[0m",
      "\u001b[1;31mNameError\u001b[0m                                 Traceback (most recent call last)",
      "\u001b[1;32mc:\\Users\\geekc\\Desktop\\SpaceTraders\\SpaceTraders\\skunkworks.ipynb Cell 8\u001b[0m in \u001b[0;36m<cell line: 1>\u001b[1;34m()\u001b[0m\n\u001b[1;32m----> <a href='vscode-notebook-cell:/c%3A/Users/geekc/Desktop/SpaceTraders/SpaceTraders/skunkworks.ipynb#ch0000006?line=0'>1</a>\u001b[0m ts \u001b[39m=\u001b[39m datetime\u001b[39m.\u001b[39mdatetime\u001b[39m.\u001b[39mnow()\n\u001b[0;32m      <a href='vscode-notebook-cell:/c%3A/Users/geekc/Desktop/SpaceTraders/SpaceTraders/skunkworks.ipynb#ch0000006?line=1'>2</a>\u001b[0m \u001b[39mf\u001b[39m\u001b[39m\"\u001b[39m\u001b[39m{\u001b[39;00mts\u001b[39m.\u001b[39myear\u001b[39m}\u001b[39;00m\u001b[39m-\u001b[39m\u001b[39m{\u001b[39;00mts\u001b[39m.\u001b[39mmonth\u001b[39m}\u001b[39;00m\u001b[39m-\u001b[39m\u001b[39m{\u001b[39;00mts\u001b[39m.\u001b[39mday\u001b[39m}\u001b[39;00m\u001b[39m \u001b[39m\u001b[39m{\u001b[39;00mts\u001b[39m.\u001b[39mhour\u001b[39m}\u001b[39;00m\u001b[39m:\u001b[39m\u001b[39m{\u001b[39;00mts\u001b[39m.\u001b[39mminute\u001b[39m}\u001b[39;00m\u001b[39m:\u001b[39m\u001b[39m{\u001b[39;00mts\u001b[39m.\u001b[39msecond\u001b[39m}\u001b[39;00m\u001b[39m\"\u001b[39m\n",
      "\u001b[1;31mNameError\u001b[0m: name 'datetime' is not defined"
     ]
    }
   ],
   "source": [
    "ts = datetime.datetime.now()\n",
    "f\"{ts.year}-{ts.month}-{ts.day} {ts.hour}:{ts.minute}:{ts.second}\""
   ]
  },
  {
   "cell_type": "code",
   "execution_count": 12,
   "metadata": {},
   "outputs": [
    {
     "data": {
      "text/plain": [
       "<sqlite3.Cursor at 0x1735c96f3c0>"
      ]
     },
     "execution_count": 12,
     "metadata": {},
     "output_type": "execute_result"
    }
   ],
   "source": [
    "import datetime\n",
    "\n",
    "system = 'OE-KO'\n",
    "flightplan = get_system_flightplans(\"OE\")[0]\n",
    "keys = flightplan.keys()\n",
    "keystrings = []\n",
    "types_conversion_dict = {\"str\":'STRING', \"int\": 'INT', \"bool\": 'BOOL'}\n",
    "for key in keys:\n",
    "    datatype = type(flightplan[key]).__name__\n",
    "    if datatype != \"list\":\n",
    "        keystrings.append(f\"\"\"{key} {types_conversion_dict[datatype]}\"\"\")\n",
    "\n",
    "    \n",
    "command = f\"CREATE TABLE flightplans ({', '.join(keystrings)});\"\n",
    "sql_command(command)\n",
    "# sql_command(command)\n",
    "# ts = datetime.datetime.now()\n",
    "# date = f\"{ts.year}-{ts.month}-{ts.day} {ts.hour}:{ts.minute}:{ts.second}\"\n",
    "# for good in get_market_data(system)['marketplace']:\n",
    "#     location_id = system\n",
    "#     name = good['symbol']\n",
    "#     ppu = good['pricePerUnit']\n",
    "#     pppu = good['purchasePricePerUnit']\n",
    "#     sppu = good['sellPricePerUnit']\n",
    "#     quant = good['quantityAvailable']\n",
    "#     spread = good['spread']\n",
    "#     string = f\"\"\"INSERT INTO markets (date, location_id, good, price_per_unit, purchace_price, sell_price, spread, quantity_available) VALUES (\n",
    "#         {date}, \"{location_id}\", \"{name}\", {ppu}, {pppu}, {sppu}, {spread}, {quant});\"\"\"\n",
    "#     sql_command(string)\n",
    "# conn.commit()"
   ]
  },
  {
   "cell_type": "code",
   "execution_count": 18,
   "metadata": {},
   "outputs": [],
   "source": [
    "conn.commit()"
   ]
  },
  {
   "cell_type": "code",
   "execution_count": 4,
   "metadata": {},
   "outputs": [
    {
     "data": {
      "text/plain": [
       "{'symbol': 'CONSTRUCTION_MATERIALS',\n",
       " 'volumePerUnit': 1,\n",
       " 'pricePerUnit': 30,\n",
       " 'spread': 3,\n",
       " 'purchasePricePerUnit': 33,\n",
       " 'sellPricePerUnit': 27,\n",
       " 'quantityAvailable': 70610}"
      ]
     },
     "execution_count": 4,
     "metadata": {},
     "output_type": "execute_result"
    }
   ],
   "source": [
    "get_market_data('OE-KO')['marketplace'][0]"
   ]
  },
  {
   "cell_type": "code",
   "execution_count": 14,
   "metadata": {},
   "outputs": [
    {
     "data": {
      "text/plain": [
       "'cl55thau617774315s68iz3fpjj'"
      ]
     },
     "execution_count": 14,
     "metadata": {},
     "output_type": "execute_result"
    }
   ],
   "source": [
    "my_ship_id"
   ]
  },
  {
   "cell_type": "code",
   "execution_count": 16,
   "metadata": {},
   "outputs": [
    {
     "data": {
      "text/plain": [
       "[{'good': 'FUEL', 'quantity': 31, 'totalVolume': 31}]"
      ]
     },
     "execution_count": 16,
     "metadata": {},
     "output_type": "execute_result"
    }
   ],
   "source": [
    "get_ship_data(my_ship_id)['cargo']"
   ]
  },
  {
   "cell_type": "code",
   "execution_count": 17,
   "metadata": {},
   "outputs": [
    {
     "data": {
      "text/plain": [
       "<sqlite3.Cursor at 0x1735c96f3c0>"
      ]
     },
     "execution_count": 17,
     "metadata": {},
     "output_type": "execute_result"
    }
   ],
   "source": [
    "cargo = get_ship_data(my_ship_id)['cargo'][0]\n",
    "keys = cargo.keys()\n",
    "keystrings = []\n",
    "types_conversion_dict = {\"str\":'STRING', \"int\": 'INT', \"bool\": 'BOOL'}\n",
    "for key in keys:\n",
    "    datatype = type(cargo[key]).__name__\n",
    "    if datatype != \"list\":\n",
    "        keystrings.append(f\"\"\"{key} {types_conversion_dict[datatype]}\"\"\")\n",
    "\n",
    "    \n",
    "command = f\"CREATE TABLE cargo ({', '.join(keystrings)});\"\n",
    "sql_command(command)\n",
    "# sql_command(command)\n",
    "# ts = datetime.datetime.now()\n",
    "# date = f\"{ts.year}-{ts.month}-{ts.day} {ts.hour}:{ts.minute}:{ts.second}\"\n",
    "# for good in get_market_data(system)['marketplace']:\n",
    "#     location_id = system\n",
    "#     name = good['symbol']\n",
    "#     ppu = good['pricePerUnit']\n",
    "#     pppu = good['purchasePricePerUnit']\n",
    "#     sppu = good['sellPricePerUnit']\n",
    "#     quant = good['quantityAvailable']\n",
    "#     spread = good['spread']\n",
    "#     string = f\"\"\"INSERT INTO markets (date, location_id, good, price_per_unit, purchace_price, sell_price, spread, quantity_available) VALUES (\n",
    "#         {date}, \"{location_id}\", \"{name}\", {ppu}, {pppu}, {sppu}, {spread}, {quant});\"\"\"\n",
    "#     sql_command(string)\n",
    "# conn.commit()"
   ]
  },
  {
   "cell_type": "code",
   "execution_count": 19,
   "metadata": {},
   "outputs": [
    {
     "data": {
      "text/html": [
       "<iframe srcdoc=\"&lt;!DOCTYPE html&gt;\n",
       "&lt;head&gt;    \n",
       "    &lt;meta http-equiv=&quot;content-type&quot; content=&quot;text/html; charset=UTF-8&quot; /&gt;\n",
       "    \n",
       "        &lt;script&gt;\n",
       "            L_NO_TOUCH = false;\n",
       "            L_DISABLE_3D = false;\n",
       "        &lt;/script&gt;\n",
       "    \n",
       "    &lt;style&gt;html, body {width: 100%;height: 100%;margin: 0;padding: 0;}&lt;/style&gt;\n",
       "    &lt;style&gt;#map {position:absolute;top:0;bottom:0;right:0;left:0;}&lt;/style&gt;\n",
       "    &lt;script src=&quot;https://cdn.jsdelivr.net/npm/leaflet@1.6.0/dist/leaflet.js&quot;&gt;&lt;/script&gt;\n",
       "    &lt;script src=&quot;https://code.jquery.com/jquery-1.12.4.min.js&quot;&gt;&lt;/script&gt;\n",
       "    &lt;script src=&quot;https://maxcdn.bootstrapcdn.com/bootstrap/3.2.0/js/bootstrap.min.js&quot;&gt;&lt;/script&gt;\n",
       "    &lt;script src=&quot;https://cdnjs.cloudflare.com/ajax/libs/Leaflet.awesome-markers/2.0.2/leaflet.awesome-markers.js&quot;&gt;&lt;/script&gt;\n",
       "    &lt;link rel=&quot;stylesheet&quot; href=&quot;https://cdn.jsdelivr.net/npm/leaflet@1.6.0/dist/leaflet.css&quot;/&gt;\n",
       "    &lt;link rel=&quot;stylesheet&quot; href=&quot;https://maxcdn.bootstrapcdn.com/bootstrap/3.2.0/css/bootstrap.min.css&quot;/&gt;\n",
       "    &lt;link rel=&quot;stylesheet&quot; href=&quot;https://maxcdn.bootstrapcdn.com/bootstrap/3.2.0/css/bootstrap-theme.min.css&quot;/&gt;\n",
       "    &lt;link rel=&quot;stylesheet&quot; href=&quot;https://maxcdn.bootstrapcdn.com/font-awesome/4.6.3/css/font-awesome.min.css&quot;/&gt;\n",
       "    &lt;link rel=&quot;stylesheet&quot; href=&quot;https://cdnjs.cloudflare.com/ajax/libs/Leaflet.awesome-markers/2.0.2/leaflet.awesome-markers.css&quot;/&gt;\n",
       "    &lt;link rel=&quot;stylesheet&quot; href=&quot;https://cdn.jsdelivr.net/gh/python-visualization/folium/folium/templates/leaflet.awesome.rotate.min.css&quot;/&gt;\n",
       "    \n",
       "            &lt;meta name=&quot;viewport&quot; content=&quot;width=device-width,\n",
       "                initial-scale=1.0, maximum-scale=1.0, user-scalable=no&quot; /&gt;\n",
       "            &lt;style&gt;\n",
       "                #map_30fafd93f2ef5f2f89da86f69f5e3506 {\n",
       "                    position: relative;\n",
       "                    width: 100.0%;\n",
       "                    height: 100.0%;\n",
       "                    left: 0.0%;\n",
       "                    top: 0.0%;\n",
       "                }\n",
       "            &lt;/style&gt;\n",
       "        \n",
       "    \n",
       "                &lt;style&gt;\n",
       "                    .leaflet-image-layer {\n",
       "                        /* old android/safari*/\n",
       "                        image-rendering: -webkit-optimize-contrast;\n",
       "                        image-rendering: crisp-edges; /* safari */\n",
       "                        image-rendering: pixelated; /* chrome */\n",
       "                        image-rendering: -moz-crisp-edges; /* firefox */\n",
       "                        image-rendering: -o-crisp-edges; /* opera */\n",
       "                        -ms-interpolation-mode: nearest-neighbor; /* ie */\n",
       "                    }\n",
       "                &lt;/style&gt;\n",
       "            \n",
       "&lt;/head&gt;\n",
       "&lt;body&gt;    \n",
       "    \n",
       "            &lt;div class=&quot;folium-map&quot; id=&quot;map_30fafd93f2ef5f2f89da86f69f5e3506&quot; &gt;&lt;/div&gt;\n",
       "        \n",
       "&lt;/body&gt;\n",
       "&lt;script&gt;    \n",
       "    \n",
       "            var map_30fafd93f2ef5f2f89da86f69f5e3506 = L.map(\n",
       "                &quot;map_30fafd93f2ef5f2f89da86f69f5e3506&quot;,\n",
       "                {\n",
       "                    center: [0, 0],\n",
       "                    crs: L.CRS.Simple,\n",
       "                    zoom: 1,\n",
       "                    zoomControl: false,\n",
       "                    preferCanvas: false,\n",
       "                }\n",
       "            );\n",
       "\n",
       "            \n",
       "\n",
       "        \n",
       "    \n",
       "            var marker_646ec6e471a79bd359f033b73daaa2a4 = L.marker(\n",
       "                [-13.664596273291924, 29.19254658385093],\n",
       "                {}\n",
       "            ).addTo(map_30fafd93f2ef5f2f89da86f69f5e3506);\n",
       "        \n",
       "    \n",
       "            var icon_41f7b9aa2065ced9f9a4f097efaf8c69 = L.AwesomeMarkers.icon(\n",
       "                {&quot;extraClasses&quot;: &quot;fa-rotate-0&quot;, &quot;icon&quot;: &quot;fa-globe&quot;, &quot;iconColor&quot;: &quot;lightblue&quot;, &quot;markerColor&quot;: &quot;black&quot;, &quot;prefix&quot;: &quot;fa&quot;}\n",
       "            );\n",
       "            marker_646ec6e471a79bd359f033b73daaa2a4.setIcon(icon_41f7b9aa2065ced9f9a4f097efaf8c69);\n",
       "        \n",
       "    \n",
       "        var popup_afbfa6fa6c36af7fcc58db951a6cf71c = L.popup({&quot;maxWidth&quot;: 700});\n",
       "\n",
       "        \n",
       "            var i_frame_52bd51c2d6b9d3a2c52e990925fd0c54 = $(`&lt;iframe src=&quot;data:text/html;charset=utf-8;base64,CiAgICA8Y2VudGVyPlBsYW5ldCBPRS1QTTogIlByaW1lIiA8YnI+TWV0YWwgT3Jlczxicj5Tb21lIE5hdHVyYWwgQ2hlbWljYWxzPC9jZW50ZXI+&quot; width=&quot;275&quot; style=&quot;border:none !important;&quot; height=&quot;70&quot;&gt;&lt;/iframe&gt;`)[0];\n",
       "            popup_afbfa6fa6c36af7fcc58db951a6cf71c.setContent(i_frame_52bd51c2d6b9d3a2c52e990925fd0c54);\n",
       "        \n",
       "\n",
       "        marker_646ec6e471a79bd359f033b73daaa2a4.bindPopup(popup_afbfa6fa6c36af7fcc58db951a6cf71c)\n",
       "        ;\n",
       "\n",
       "        \n",
       "    \n",
       "    \n",
       "            marker_646ec6e471a79bd359f033b73daaa2a4.bindTooltip(\n",
       "                `&lt;div&gt;\n",
       "                     Prime\n",
       "                 &lt;/div&gt;`,\n",
       "                {&quot;sticky&quot;: true}\n",
       "            );\n",
       "        \n",
       "    \n",
       "            var marker_b786de211ec74e3e67d5fa7c7886446e = L.marker(\n",
       "                [-14.906832298136646, 31.67701863354037],\n",
       "                {}\n",
       "            ).addTo(map_30fafd93f2ef5f2f89da86f69f5e3506);\n",
       "        \n",
       "    \n",
       "            var icon_75fd68fc316f158c0ab0996e1b9bac5d = L.AwesomeMarkers.icon(\n",
       "                {&quot;extraClasses&quot;: &quot;fa-rotate-0&quot;, &quot;icon&quot;: &quot;fa-moon-o&quot;, &quot;iconColor&quot;: &quot;beige&quot;, &quot;markerColor&quot;: &quot;black&quot;, &quot;prefix&quot;: &quot;fa&quot;}\n",
       "            );\n",
       "            marker_b786de211ec74e3e67d5fa7c7886446e.setIcon(icon_75fd68fc316f158c0ab0996e1b9bac5d);\n",
       "        \n",
       "    \n",
       "        var popup_89cb8805f0e2de664cdadcfbcc07895a = L.popup({&quot;maxWidth&quot;: 700});\n",
       "\n",
       "        \n",
       "            var i_frame_c4b3786e2d84fcafad6396c37236ecb3 = $(`&lt;iframe src=&quot;data:text/html;charset=utf-8;base64,CiAgICA8Y2VudGVyPk1vb24gT0UtUE0tVFI6ICJUcml0dXMiIDxicj5OYXR1cmFsIENoZW1pY2FsczwvY2VudGVyPjxicj48Y2VudGVyPk1hcmtldCBSZXBvcnQ6PC9jZW50ZXI+PGJyPk1ldGFsczo8YnI+JmVtc3A7OTM3NTEgQXZhaWxhYmxlPGJyPiAmZW1zcDtwL3MgcHJpY2U6IDMvMTxicj48YnI+Q29uc3RydWN0aW9uIE1hdGVyaWFsczo8YnI+JmVtc3A7MCBBdmFpbGFibGU8YnI+ICZlbXNwO3AvcyBwcmljZTogMTQ0LzEzNjxicj48YnI+RnVlbDo8YnI+JmVtc3A7ODcyNjIgQXZhaWxhYmxlPGJyPiAmZW1zcDtwL3MgcHJpY2U6IDMvMTxicj48YnI+RnVzaW9uIFJlYWN0b3JzOjxicj4mZW1zcDswIEF2YWlsYWJsZTxicj4gJmVtc3A7cC9zIHByaWNlOiAyMDU5Ni8yMDIwNDxicj4=&quot; width=&quot;275&quot; style=&quot;border:none !important;&quot; height=&quot;390&quot;&gt;&lt;/iframe&gt;`)[0];\n",
       "            popup_89cb8805f0e2de664cdadcfbcc07895a.setContent(i_frame_c4b3786e2d84fcafad6396c37236ecb3);\n",
       "        \n",
       "\n",
       "        marker_b786de211ec74e3e67d5fa7c7886446e.bindPopup(popup_89cb8805f0e2de664cdadcfbcc07895a)\n",
       "        ;\n",
       "\n",
       "        \n",
       "    \n",
       "    \n",
       "            marker_b786de211ec74e3e67d5fa7c7886446e.bindTooltip(\n",
       "                `&lt;div&gt;\n",
       "                     Tritus\n",
       "                 &lt;/div&gt;`,\n",
       "                {&quot;sticky&quot;: true}\n",
       "            );\n",
       "        \n",
       "    \n",
       "            var marker_5bf442563ff64b1653c2f39292a5e60c = L.marker(\n",
       "                [14.906832298136646, 9.316770186335402],\n",
       "                {}\n",
       "            ).addTo(map_30fafd93f2ef5f2f89da86f69f5e3506);\n",
       "        \n",
       "    \n",
       "            var icon_936306735c382d5a884ce7e7c104d01b = L.AwesomeMarkers.icon(\n",
       "                {&quot;extraClasses&quot;: &quot;fa-rotate-0&quot;, &quot;icon&quot;: &quot;fa-globe&quot;, &quot;iconColor&quot;: &quot;lightblue&quot;, &quot;markerColor&quot;: &quot;black&quot;, &quot;prefix&quot;: &quot;fa&quot;}\n",
       "            );\n",
       "            marker_5bf442563ff64b1653c2f39292a5e60c.setIcon(icon_936306735c382d5a884ce7e7c104d01b);\n",
       "        \n",
       "    \n",
       "        var popup_c1ca35665068ee4ce96b836883a72ac1 = L.popup({&quot;maxWidth&quot;: 700});\n",
       "\n",
       "        \n",
       "            var i_frame_fbd985b51bae4eed213438ae21261eae = $(`&lt;iframe src=&quot;data:text/html;charset=utf-8;base64,CiAgICA8Y2VudGVyPlBsYW5ldCBPRS1DUjogIkNhcnRoIiA8YnI+TWV0YWwgT3Jlczxicj5OYXR1cmFsIENoZW1pY2Fsczxicj5BYnVuZGFudCBSYXJlIE1ldGFsIE9yZXM8YnI+QWJ1bmRhbnQgVGVjaG5vbG9naWNhbCBSdWluczwvY2VudGVyPg==&quot; width=&quot;275&quot; style=&quot;border:none !important;&quot; height=&quot;110&quot;&gt;&lt;/iframe&gt;`)[0];\n",
       "            popup_c1ca35665068ee4ce96b836883a72ac1.setContent(i_frame_fbd985b51bae4eed213438ae21261eae);\n",
       "        \n",
       "\n",
       "        marker_5bf442563ff64b1653c2f39292a5e60c.bindPopup(popup_c1ca35665068ee4ce96b836883a72ac1)\n",
       "        ;\n",
       "\n",
       "        \n",
       "    \n",
       "    \n",
       "            marker_5bf442563ff64b1653c2f39292a5e60c.bindTooltip(\n",
       "                `&lt;div&gt;\n",
       "                     Carth\n",
       "                 &lt;/div&gt;`,\n",
       "                {&quot;sticky&quot;: true}\n",
       "            );\n",
       "        \n",
       "    \n",
       "            var marker_16d9bd7e4fec5a7dfd15bbdbb0f60f45 = L.marker(\n",
       "                [-50.931677018633536, 26.70807453416149],\n",
       "                {}\n",
       "            ).addTo(map_30fafd93f2ef5f2f89da86f69f5e3506);\n",
       "        \n",
       "    \n",
       "            var icon_c37e7636645aad36708ab857e7d174d6 = L.AwesomeMarkers.icon(\n",
       "                {&quot;extraClasses&quot;: &quot;fa-rotate-0&quot;, &quot;icon&quot;: &quot;fa-globe&quot;, &quot;iconColor&quot;: &quot;lightblue&quot;, &quot;markerColor&quot;: &quot;black&quot;, &quot;prefix&quot;: &quot;fa&quot;}\n",
       "            );\n",
       "            marker_16d9bd7e4fec5a7dfd15bbdbb0f60f45.setIcon(icon_c37e7636645aad36708ab857e7d174d6);\n",
       "        \n",
       "    \n",
       "        var popup_d9c6b28732a8df58b644a09af353ecde = L.popup({&quot;maxWidth&quot;: 700});\n",
       "\n",
       "        \n",
       "            var i_frame_5a2714ae0997c3cad1757f8d9e43f086 = $(`&lt;iframe src=&quot;data:text/html;charset=utf-8;base64,CiAgICA8Y2VudGVyPlBsYW5ldCBPRS1LTzogIktvcmlhIiA8YnI+U29tZSBOYXR1cmFsIENoZW1pY2Fsczxicj5Tb21lIFJhcmUgTWV0YWwgT3JlczwvY2VudGVyPjxicj48Y2VudGVyPk1hcmtldCBSZXBvcnQ6PC9jZW50ZXI+PGJyPkNvbnN0cnVjdGlvbiBNYXRlcmlhbHM6PGJyPiZlbXNwOzcwNjEwIEF2YWlsYWJsZTxicj4gJmVtc3A7cC9zIHByaWNlOiAzMy8yNzxicj48YnI+RnVlbDo8YnI+JmVtc3A7OTI4NzMgQXZhaWxhYmxlPGJyPiAmZW1zcDtwL3MgcHJpY2U6IDMvMTxicj48YnI+Q29uc3VtZXIgR29vZHM6PGJyPiZlbXNwOzQzMzA3IEF2YWlsYWJsZTxicj4gJmVtc3A7cC9zIHByaWNlOiAxOS8xMTxicj48YnI+Q2hlbWljYWxzOjxicj4mZW1zcDs4IEF2YWlsYWJsZTxicj4gJmVtc3A7cC9zIHByaWNlOiA0NS80Mzxicj48YnI+TWV0YWxzOjxicj4mZW1zcDswIEF2YWlsYWJsZTxicj4gJmVtc3A7cC9zIHByaWNlOiA0My80MTxicj48YnI+Rm9vZDo8YnI+JmVtc3A7MTAgQXZhaWxhYmxlPGJyPiAmZW1zcDtwL3MgcHJpY2U6IDM2LzM0PGJyPjxicj5FeHBsb3NpdmVzOjxicj4mZW1zcDs3NzE1MCBBdmFpbGFibGU8YnI+ICZlbXNwO3AvcyBwcmljZTogMTQvMTA8YnI+&quot; width=&quot;275&quot; style=&quot;border:none !important;&quot; height=&quot;650&quot;&gt;&lt;/iframe&gt;`)[0];\n",
       "            popup_d9c6b28732a8df58b644a09af353ecde.setContent(i_frame_5a2714ae0997c3cad1757f8d9e43f086);\n",
       "        \n",
       "\n",
       "        marker_16d9bd7e4fec5a7dfd15bbdbb0f60f45.bindPopup(popup_d9c6b28732a8df58b644a09af353ecde)\n",
       "        ;\n",
       "\n",
       "        \n",
       "    \n",
       "    \n",
       "            marker_16d9bd7e4fec5a7dfd15bbdbb0f60f45.bindTooltip(\n",
       "                `&lt;div&gt;\n",
       "                     Koria\n",
       "                 &lt;/div&gt;`,\n",
       "                {&quot;sticky&quot;: true}\n",
       "            );\n",
       "        \n",
       "    \n",
       "            var marker_7856097280da02219277831641f54084 = L.marker(\n",
       "                [-11.180124223602483, -63.9751552795031],\n",
       "                {}\n",
       "            ).addTo(map_30fafd93f2ef5f2f89da86f69f5e3506);\n",
       "        \n",
       "    \n",
       "            var icon_9cd2ad198f74cdb355f4d80c909aa643 = L.AwesomeMarkers.icon(\n",
       "                {&quot;extraClasses&quot;: &quot;fa-rotate-0&quot;, &quot;icon&quot;: &quot;fa-globe&quot;, &quot;iconColor&quot;: &quot;lightblue&quot;, &quot;markerColor&quot;: &quot;black&quot;, &quot;prefix&quot;: &quot;fa&quot;}\n",
       "            );\n",
       "            marker_7856097280da02219277831641f54084.setIcon(icon_9cd2ad198f74cdb355f4d80c909aa643);\n",
       "        \n",
       "    \n",
       "        var popup_2f3c833f94be2fdbd2032dc798382c27 = L.popup({&quot;maxWidth&quot;: 700});\n",
       "\n",
       "        \n",
       "            var i_frame_53a7260edba19404b26482d1e60cd5ab = $(`&lt;iframe src=&quot;data:text/html;charset=utf-8;base64,CiAgICA8Y2VudGVyPlBsYW5ldCBPRS1VQzogIlVjYXJybyIgPGJyPlNvbWUgTWV0YWwgT3Jlczxicj5BcmFibGUgTGFuZDwvY2VudGVyPg==&quot; width=&quot;275&quot; style=&quot;border:none !important;&quot; height=&quot;70&quot;&gt;&lt;/iframe&gt;`)[0];\n",
       "            popup_2f3c833f94be2fdbd2032dc798382c27.setContent(i_frame_53a7260edba19404b26482d1e60cd5ab);\n",
       "        \n",
       "\n",
       "        marker_7856097280da02219277831641f54084.bindPopup(popup_2f3c833f94be2fdbd2032dc798382c27)\n",
       "        ;\n",
       "\n",
       "        \n",
       "    \n",
       "    \n",
       "            marker_7856097280da02219277831641f54084.bindTooltip(\n",
       "                `&lt;div&gt;\n",
       "                     Ucarro\n",
       "                 &lt;/div&gt;`,\n",
       "                {&quot;sticky&quot;: true}\n",
       "            );\n",
       "        \n",
       "    \n",
       "            var marker_511a3d7163465c8eaf76ff8fd893eadb = L.marker(\n",
       "                [-8.695652173913043, -65.21739130434783],\n",
       "                {}\n",
       "            ).addTo(map_30fafd93f2ef5f2f89da86f69f5e3506);\n",
       "        \n",
       "    \n",
       "            var icon_ef9b1ac73e1b004ca0efcde38b7424e1 = L.AwesomeMarkers.icon(\n",
       "                {&quot;extraClasses&quot;: &quot;fa-rotate-0&quot;, &quot;icon&quot;: &quot;fa-moon-o&quot;, &quot;iconColor&quot;: &quot;beige&quot;, &quot;markerColor&quot;: &quot;black&quot;, &quot;prefix&quot;: &quot;fa&quot;}\n",
       "            );\n",
       "            marker_511a3d7163465c8eaf76ff8fd893eadb.setIcon(icon_ef9b1ac73e1b004ca0efcde38b7424e1);\n",
       "        \n",
       "    \n",
       "        var popup_01c79189e2953afebbb9a03529544e1e = L.popup({&quot;maxWidth&quot;: 700});\n",
       "\n",
       "        \n",
       "            var i_frame_36db6f8f16e49f383ad0b1cb921f85e6 = $(`&lt;iframe src=&quot;data:text/html;charset=utf-8;base64,CiAgICA8Y2VudGVyPk1vb24gT0UtVUMtQUQ6ICJBZG8iIDxicj5Tb21lIE1ldGFsIE9yZXM8YnI+U29tZSBSYXJlIE1ldGFsIE9yZXM8YnI+VGVjaG5vbG9naWNhbCBSdWluczwvY2VudGVyPg==&quot; width=&quot;275&quot; style=&quot;border:none !important;&quot; height=&quot;90&quot;&gt;&lt;/iframe&gt;`)[0];\n",
       "            popup_01c79189e2953afebbb9a03529544e1e.setContent(i_frame_36db6f8f16e49f383ad0b1cb921f85e6);\n",
       "        \n",
       "\n",
       "        marker_511a3d7163465c8eaf76ff8fd893eadb.bindPopup(popup_01c79189e2953afebbb9a03529544e1e)\n",
       "        ;\n",
       "\n",
       "        \n",
       "    \n",
       "    \n",
       "            marker_511a3d7163465c8eaf76ff8fd893eadb.bindTooltip(\n",
       "                `&lt;div&gt;\n",
       "                     Ado\n",
       "                 &lt;/div&gt;`,\n",
       "                {&quot;sticky&quot;: true}\n",
       "            );\n",
       "        \n",
       "    \n",
       "            var marker_bdfec38f6915a5afc1f6609ab40ca62c = L.marker(\n",
       "                [-11.180124223602483, -66.45962732919254],\n",
       "                {}\n",
       "            ).addTo(map_30fafd93f2ef5f2f89da86f69f5e3506);\n",
       "        \n",
       "    \n",
       "            var icon_ab191581aef663b685abfa59a6859445 = L.AwesomeMarkers.icon(\n",
       "                {&quot;extraClasses&quot;: &quot;fa-rotate-0&quot;, &quot;icon&quot;: &quot;fa-moon-o&quot;, &quot;iconColor&quot;: &quot;beige&quot;, &quot;markerColor&quot;: &quot;black&quot;, &quot;prefix&quot;: &quot;fa&quot;}\n",
       "            );\n",
       "            marker_bdfec38f6915a5afc1f6609ab40ca62c.setIcon(icon_ab191581aef663b685abfa59a6859445);\n",
       "        \n",
       "    \n",
       "        var popup_5c138ab10d3b6e3785c8b14d9698fc9a = L.popup({&quot;maxWidth&quot;: 700});\n",
       "\n",
       "        \n",
       "            var i_frame_8f6f912d17540db82b62e159c20004de = $(`&lt;iframe src=&quot;data:text/html;charset=utf-8;base64,CiAgICA8Y2VudGVyPk1vb24gT0UtVUMtT0I6ICJPYm8iIDxicj5Tb21lIE1ldGFsIE9yZXM8YnI+TmF0dXJhbCBDaGVtaWNhbHM8YnI+U29tZSBUZWNobm9sb2dpY2FsIFJ1aW5zPC9jZW50ZXI+&quot; width=&quot;275&quot; style=&quot;border:none !important;&quot; height=&quot;90&quot;&gt;&lt;/iframe&gt;`)[0];\n",
       "            popup_5c138ab10d3b6e3785c8b14d9698fc9a.setContent(i_frame_8f6f912d17540db82b62e159c20004de);\n",
       "        \n",
       "\n",
       "        marker_bdfec38f6915a5afc1f6609ab40ca62c.bindPopup(popup_5c138ab10d3b6e3785c8b14d9698fc9a)\n",
       "        ;\n",
       "\n",
       "        \n",
       "    \n",
       "    \n",
       "            marker_bdfec38f6915a5afc1f6609ab40ca62c.bindTooltip(\n",
       "                `&lt;div&gt;\n",
       "                     Obo\n",
       "                 &lt;/div&gt;`,\n",
       "                {&quot;sticky&quot;: true}\n",
       "            );\n",
       "        \n",
       "    \n",
       "            var marker_babbf644b133c8e804d942d184765390 = L.marker(\n",
       "                [63.35403726708074, -31.67701863354037],\n",
       "                {}\n",
       "            ).addTo(map_30fafd93f2ef5f2f89da86f69f5e3506);\n",
       "        \n",
       "    \n",
       "            var icon_079faa16e921b0eddc62900a9dbbe484 = L.AwesomeMarkers.icon(\n",
       "                {&quot;extraClasses&quot;: &quot;fa-rotate-0&quot;, &quot;icon&quot;: &quot;fa-cog&quot;, &quot;iconColor&quot;: &quot;gray&quot;, &quot;markerColor&quot;: &quot;black&quot;, &quot;prefix&quot;: &quot;fa&quot;}\n",
       "            );\n",
       "            marker_babbf644b133c8e804d942d184765390.setIcon(icon_079faa16e921b0eddc62900a9dbbe484);\n",
       "        \n",
       "    \n",
       "        var popup_cdba896b50ebc97f0cac23aac72baf5e = L.popup({&quot;maxWidth&quot;: 700});\n",
       "\n",
       "        \n",
       "            var i_frame_5a195f598ed402012080df9b614c50b0 = $(`&lt;iframe src=&quot;data:text/html;charset=utf-8;base64,CiAgICA8Y2VudGVyPkFzdGVyb2lkIE9FLU5ZOiAiTnlvbiIgPGJyPlNvbWUgTmF0dXJhbCBDaGVtaWNhbHM8YnI+UmFyZSBNZXRhbCBPcmVzPC9jZW50ZXI+&quot; width=&quot;275&quot; style=&quot;border:none !important;&quot; height=&quot;70&quot;&gt;&lt;/iframe&gt;`)[0];\n",
       "            popup_cdba896b50ebc97f0cac23aac72baf5e.setContent(i_frame_5a195f598ed402012080df9b614c50b0);\n",
       "        \n",
       "\n",
       "        marker_babbf644b133c8e804d942d184765390.bindPopup(popup_cdba896b50ebc97f0cac23aac72baf5e)\n",
       "        ;\n",
       "\n",
       "        \n",
       "    \n",
       "    \n",
       "            marker_babbf644b133c8e804d942d184765390.bindTooltip(\n",
       "                `&lt;div&gt;\n",
       "                     Nyon\n",
       "                 &lt;/div&gt;`,\n",
       "                {&quot;sticky&quot;: true}\n",
       "            );\n",
       "        \n",
       "    \n",
       "            var marker_a1ef0732862e55e96efa5775b8cc83c9 = L.marker(\n",
       "                [-63.35403726708074, 99.99999999999999],\n",
       "                {}\n",
       "            ).addTo(map_30fafd93f2ef5f2f89da86f69f5e3506);\n",
       "        \n",
       "    \n",
       "            var icon_2dc2f0801c367bc75dbee957648c1108 = L.AwesomeMarkers.icon(\n",
       "                {&quot;extraClasses&quot;: &quot;fa-rotate-0&quot;, &quot;icon&quot;: &quot;fa-circle-o&quot;, &quot;iconColor&quot;: &quot;lightgreen&quot;, &quot;markerColor&quot;: &quot;black&quot;, &quot;prefix&quot;: &quot;fa&quot;}\n",
       "            );\n",
       "            marker_a1ef0732862e55e96efa5775b8cc83c9.setIcon(icon_2dc2f0801c367bc75dbee957648c1108);\n",
       "        \n",
       "    \n",
       "        var popup_451e32524df18dba6a944ae7bca66962 = L.popup({&quot;maxWidth&quot;: 700});\n",
       "\n",
       "        \n",
       "            var i_frame_4fdf7b150af93e6640a3513c807b7147 = $(`&lt;iframe src=&quot;data:text/html;charset=utf-8;base64,CiAgICA8Y2VudGVyPkdhc19HaWFudCBPRS1CTzogIkJvIiA8YnI+U29tZSBIZWxpdW0gMzxicj5UZWNobm9sb2dpY2FsIFJ1aW5zPC9jZW50ZXI+&quot; width=&quot;275&quot; style=&quot;border:none !important;&quot; height=&quot;70&quot;&gt;&lt;/iframe&gt;`)[0];\n",
       "            popup_451e32524df18dba6a944ae7bca66962.setContent(i_frame_4fdf7b150af93e6640a3513c807b7147);\n",
       "        \n",
       "\n",
       "        marker_a1ef0732862e55e96efa5775b8cc83c9.bindPopup(popup_451e32524df18dba6a944ae7bca66962)\n",
       "        ;\n",
       "\n",
       "        \n",
       "    \n",
       "    \n",
       "            marker_a1ef0732862e55e96efa5775b8cc83c9.bindTooltip(\n",
       "                `&lt;div&gt;\n",
       "                     Bo\n",
       "                 &lt;/div&gt;`,\n",
       "                {&quot;sticky&quot;: true}\n",
       "            );\n",
       "        \n",
       "    \n",
       "            var marker_70985456c34c6533df90369e9fbba982 = L.marker(\n",
       "                [16.149068322981364, -99.99999999999999],\n",
       "                {}\n",
       "            ).addTo(map_30fafd93f2ef5f2f89da86f69f5e3506);\n",
       "        \n",
       "    \n",
       "            var icon_4ca6fb9009d109e805562bb6a4d48640 = L.AwesomeMarkers.icon(\n",
       "                {&quot;extraClasses&quot;: &quot;fa-rotate-0&quot;, &quot;icon&quot;: &quot;fa-recycle&quot;, &quot;iconColor&quot;: &quot;pink&quot;, &quot;markerColor&quot;: &quot;black&quot;, &quot;prefix&quot;: &quot;fa&quot;}\n",
       "            );\n",
       "            marker_70985456c34c6533df90369e9fbba982.setIcon(icon_4ca6fb9009d109e805562bb6a4d48640);\n",
       "        \n",
       "    \n",
       "        var popup_340486a5030d91c460b252dc39531b46 = L.popup({&quot;maxWidth&quot;: 700});\n",
       "\n",
       "        \n",
       "            var i_frame_5ddc1140a73a7206a16efae05d297dda = $(`&lt;iframe src=&quot;data:text/html;charset=utf-8;base64,CiAgICA8Y2VudGVyPldvcm1ob2xlIE9FLVctWFY6ICJXb3JtaG9sZSIgPGJyPjwvY2VudGVyPg==&quot; width=&quot;275&quot; style=&quot;border:none !important;&quot; height=&quot;50&quot;&gt;&lt;/iframe&gt;`)[0];\n",
       "            popup_340486a5030d91c460b252dc39531b46.setContent(i_frame_5ddc1140a73a7206a16efae05d297dda);\n",
       "        \n",
       "\n",
       "        marker_70985456c34c6533df90369e9fbba982.bindPopup(popup_340486a5030d91c460b252dc39531b46)\n",
       "        ;\n",
       "\n",
       "        \n",
       "    \n",
       "    \n",
       "            marker_70985456c34c6533df90369e9fbba982.bindTooltip(\n",
       "                `&lt;div&gt;\n",
       "                     Wormhole\n",
       "                 &lt;/div&gt;`,\n",
       "                {&quot;sticky&quot;: true}\n",
       "            );\n",
       "        \n",
       "    \n",
       "            var image_overlay_22224e6330d0143c3dbc56bab1dc9572 = L.imageOverlay(\n",
       "                &quot;http://paulbourke.net/miscellaneous/astronomy/8192x4096.png&quot;,\n",
       "                [[-800, -800], [800, 800]],\n",
       "                {}\n",
       "            ).addTo(map_30fafd93f2ef5f2f89da86f69f5e3506);\n",
       "        \n",
       "&lt;/script&gt;\" width=\"800\" height=\"800\"style=\"border:none !important;\" \"allowfullscreen\" \"webkitallowfullscreen\" \"mozallowfullscreen\"></iframe>"
      ],
      "text/plain": [
       "<folium.folium.Map at 0x17374526b30>"
      ]
     },
     "execution_count": 19,
     "metadata": {},
     "output_type": "execute_result"
    }
   ],
   "source": [
    "StarMap(StarChart()).draw_starmap()"
   ]
  },
  {
   "cell_type": "code",
   "execution_count": 23,
   "metadata": {},
   "outputs": [
    {
     "data": {
      "text/plain": [
       "{'name': 'Fuel', 'symbol': 'FUEL', 'volumePerUnit': 1}"
      ]
     },
     "execution_count": 23,
     "metadata": {},
     "output_type": "execute_result"
    }
   ],
   "source": [
    "get_available_goods()['goods'][0]"
   ]
  },
  {
   "cell_type": "code",
   "execution_count": 25,
   "metadata": {},
   "outputs": [
    {
     "data": {
      "text/plain": [
       "<sqlite3.Cursor at 0x1735c96f3c0>"
      ]
     },
     "execution_count": 25,
     "metadata": {},
     "output_type": "execute_result"
    }
   ],
   "source": [
    "sql_command(\"ALTER TABLE goods ADD volumePerUnit INTEGER\")"
   ]
  },
  {
   "cell_type": "code",
   "execution_count": 4,
   "metadata": {},
   "outputs": [
    {
     "data": {
      "text/plain": [
       "685213"
      ]
     },
     "execution_count": 4,
     "metadata": {},
     "output_type": "execute_result"
    }
   ],
   "source": [
    "get_money()"
   ]
  },
  {
   "cell_type": "code",
   "execution_count": 5,
   "metadata": {},
   "outputs": [
    {
     "data": {
      "text/plain": [
       "[{'id': 'cl55thau617774315s68iz3fpjj',\n",
       "  'location': 'OE-KO',\n",
       "  'x': -49,\n",
       "  'y': 1,\n",
       "  'cargo': [{'good': 'FUEL', 'quantity': 31, 'totalVolume': 31}],\n",
       "  'spaceAvailable': 19,\n",
       "  'type': 'JW-MK-I',\n",
       "  'class': 'MK-I',\n",
       "  'maxCargo': 50,\n",
       "  'loadingSpeed': 25,\n",
       "  'speed': 1,\n",
       "  'manufacturer': 'Jackshaw',\n",
       "  'plating': 5,\n",
       "  'weapons': 5},\n",
       " {'id': 'cl58tw4u525771615s6bnh9pips',\n",
       "  'location': 'OE-PM-TR',\n",
       "  'x': -20,\n",
       "  'y': 5,\n",
       "  'cargo': [{'good': 'METALS', 'quantity': 55, 'totalVolume': 55},\n",
       "   {'good': 'FUEL', 'quantity': 20, 'totalVolume': 20}],\n",
       "  'spaceAvailable': 25,\n",
       "  'type': 'GR-MK-I',\n",
       "  'class': 'MK-I',\n",
       "  'maxCargo': 100,\n",
       "  'loadingSpeed': 100,\n",
       "  'speed': 1,\n",
       "  'manufacturer': 'Gravager',\n",
       "  'plating': 10,\n",
       "  'weapons': 5}]"
      ]
     },
     "execution_count": 5,
     "metadata": {},
     "output_type": "execute_result"
    }
   ],
   "source": [
    "get_ships()"
   ]
  },
  {
   "cell_type": "code",
   "execution_count": 6,
   "metadata": {},
   "outputs": [
    {
     "data": {
      "text/plain": [
       "{'flightPlan': {'id': 'cl5pm4zd111138715s63tt8wp8a',\n",
       "  'shipId': 'cl55thau617774315s68iz3fpjj',\n",
       "  'createdAt': '2022-07-17T17:49:56.101Z',\n",
       "  'arrivesAt': '2022-07-17T17:55:35.099Z',\n",
       "  'destination': 'OE-NY',\n",
       "  'departure': 'OE-KO',\n",
       "  'distance': 103,\n",
       "  'fuelConsumed': 17,\n",
       "  'fuelRemaining': 14,\n",
       "  'terminatedAt': None,\n",
       "  'timeRemainingInSeconds': 338}}"
      ]
     },
     "execution_count": 6,
     "metadata": {},
     "output_type": "execute_result"
    }
   ],
   "source": [
    "\n",
    "make_flightplan('cl55thau617774315s68iz3fpjj', 'OE-NY')"
   ]
  },
  {
   "cell_type": "code",
   "execution_count": null,
   "metadata": {},
   "outputs": [],
   "source": []
  }
 ],
 "metadata": {
  "kernelspec": {
   "display_name": "Python 3.10.5 64-bit",
   "language": "python",
   "name": "python3"
  },
  "language_info": {
   "codemirror_mode": {
    "name": "ipython",
    "version": 3
   },
   "file_extension": ".py",
   "mimetype": "text/x-python",
   "name": "python",
   "nbconvert_exporter": "python",
   "pygments_lexer": "ipython3",
   "version": "3.10.5"
  },
  "orig_nbformat": 4,
  "vscode": {
   "interpreter": {
    "hash": "300fbccfaa1afd04bb86653fbdee52f26c731e37f5150715ebdacf05ee18f2ba"
   }
  }
 },
 "nbformat": 4,
 "nbformat_minor": 2
}
