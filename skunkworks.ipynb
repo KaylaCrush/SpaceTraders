{
 "cells": [
  {
   "cell_type": "code",
   "execution_count": 2,
   "metadata": {},
   "outputs": [],
   "source": [
    "from spacebase import *\n",
    "import sqlite3\n",
    "\n",
    "conn = sqlite3.connect('./spacetraders.db')\n",
    "cursor = conn.cursor()\n",
    "\n",
    "def sql_command(command):\n",
    "    return cursor.execute(command)"
   ]
  },
  {
   "cell_type": "code",
   "execution_count": 70,
   "metadata": {},
   "outputs": [
    {
     "data": {
      "text/plain": [
       "<sqlite3.Cursor at 0x255846e5bc0>"
      ]
     },
     "execution_count": 70,
     "metadata": {},
     "output_type": "execute_result"
    }
   ],
   "source": [
    "ship = get_ships()[0]\n",
    "keys = ship.keys()\n",
    "keystrings = []\n",
    "types_conversion_dict = {\"str\":'STRING', \"int\": 'INT', \"bool\": 'BOOL'}\n",
    "for key in keys:\n",
    "    datatype = type(ship[key]).__name__\n",
    "    if datatype != \"list\":\n",
    "        keystrings.append(f\"\"\"{key} {types_conversion_dict[datatype]}\"\"\")\n",
    "\n",
    "    \n",
    "command = f\"CREATE TABLE ships ({', '.join(keystrings)});\"\n",
    "sql_command(command)\n",
    "\n"
   ]
  },
  {
   "cell_type": "code",
   "execution_count": 65,
   "metadata": {},
   "outputs": [],
   "source": [
    "del type"
   ]
  },
  {
   "cell_type": "code",
   "execution_count": null,
   "metadata": {},
   "outputs": [],
   "source": [
    "# sql_command(\"\"\"CREATE TABLE ships (id STRING PRIMARY KEY, \n",
    "#     last_location STRING, \n",
    "#     last_flightplan STRING, \n",
    "#     X INT, \n",
    "#     Y INT, \n",
    "#     space_available INT, \n",
    "#     type STRING, \n",
    "#     class STRING,\n",
    "#     max_cargo INT, \n",
    "#     loading_speed INT,\n",
    "#     speed INT,\n",
    "#     manufacturer STRING,\n",
    "#     plating INT,\n",
    "# weapons INT);\n",
    "# \"\"\")"
   ]
  },
  {
   "cell_type": "code",
   "execution_count": 41,
   "metadata": {},
   "outputs": [
    {
     "data": {
      "text/plain": [
       "'helloworld'"
      ]
     },
     "execution_count": 41,
     "metadata": {},
     "output_type": "execute_result"
    }
   ],
   "source": [
    "\"hello\" + \"world\""
   ]
  },
  {
   "cell_type": "code",
   "execution_count": 40,
   "metadata": {},
   "outputs": [
    {
     "ename": "NameError",
     "evalue": "name 'STRING' is not defined",
     "output_type": "error",
     "traceback": [
      "\u001b[1;31m---------------------------------------------------------------------------\u001b[0m",
      "\u001b[1;31mNameError\u001b[0m                                 Traceback (most recent call last)",
      "\u001b[1;32mc:\\Users\\geekc\\Desktop\\SpaceTraders\\SpaceTraders\\skunkworks.ipynb Cell 4\u001b[0m in \u001b[0;36m<cell line: 1>\u001b[1;34m()\u001b[0m\n\u001b[1;32m----> <a href='vscode-notebook-cell:/c%3A/Users/geekc/Desktop/SpaceTraders/SpaceTraders/skunkworks.ipynb#ch0000019?line=0'>1</a>\u001b[0m types_conversion_dict \u001b[39m=\u001b[39m {\u001b[39m\"\u001b[39m\u001b[39mstr\u001b[39m\u001b[39m\"\u001b[39m:STRING, \u001b[39m\"\u001b[39m\u001b[39mint\u001b[39m\u001b[39m\"\u001b[39m: INT, \u001b[39m\"\u001b[39m\u001b[39mbool\u001b[39m\u001b[39m\"\u001b[39m: BOOL}\n",
      "\u001b[1;31mNameError\u001b[0m: name 'STRING' is not defined"
     ]
    }
   ],
   "source": []
  },
  {
   "cell_type": "code",
   "execution_count": 39,
   "metadata": {},
   "outputs": [
    {
     "data": {
      "text/plain": [
       "bool"
      ]
     },
     "execution_count": 39,
     "metadata": {},
     "output_type": "execute_result"
    }
   ],
   "source": [
    "type(bool())"
   ]
  },
  {
   "cell_type": "code",
   "execution_count": 11,
   "metadata": {},
   "outputs": [
    {
     "data": {
      "text/plain": [
       "<sqlite3.Cursor at 0x211ffcacbc0>"
      ]
     },
     "execution_count": 11,
     "metadata": {},
     "output_type": "execute_result"
    }
   ],
   "source": [
    "sql_command('drop table cargo')"
   ]
  },
  {
   "cell_type": "code",
   "execution_count": 12,
   "metadata": {},
   "outputs": [
    {
     "data": {
      "text/plain": [
       "<sqlite3.Cursor at 0x211ffcacbc0>"
      ]
     },
     "execution_count": 12,
     "metadata": {},
     "output_type": "execute_result"
    }
   ],
   "source": [
    "sql_command(\"\"\"CREATE TABLE cargo (ship_id STRING,\n",
    "    good STRING,\n",
    "    quantity INT);\n",
    "\"\"\")"
   ]
  },
  {
   "cell_type": "code",
   "execution_count": 14,
   "metadata": {},
   "outputs": [
    {
     "data": {
      "text/plain": [
       "<sqlite3.Cursor at 0x211ffcacbc0>"
      ]
     },
     "execution_count": 14,
     "metadata": {},
     "output_type": "execute_result"
    }
   ],
   "source": [
    "sql_command(\"drop table flightplans\")\n",
    "sql_command(\"\"\"CREATE TABLE flightplans (id STRING PRIMARY KEY, \n",
    "    ship_id STRING, \n",
    "    created_at DATE, \n",
    "    arrives_at DATE, \n",
    "    destination STRING, \n",
    "    departure STRING, \n",
    "    distance INT, \n",
    "    fuel_consumed INT,\n",
    "    fuel_remaining INT, \n",
    "    terminated_at DATE,\n",
    "    seconds_remaining INT);\n",
    "\"\"\")"
   ]
  },
  {
   "cell_type": "code",
   "execution_count": 8,
   "metadata": {},
   "outputs": [
    {
     "data": {
      "text/plain": [
       "[]"
      ]
     },
     "execution_count": 8,
     "metadata": {},
     "output_type": "execute_result"
    }
   ],
   "source": [
    "sql_command(\"\"\"CREATE TABLE locations (id STRING PRIMARY KEY, \n",
    "    type STRING, \n",
    "    name STRING, \n",
    "    X INT, \n",
    "    Y INT, \n",
    "    allows_construction BOOL, \n",
    "    traits STRING);\n",
    "\"\"\")"
   ]
  },
  {
   "cell_type": "code",
   "execution_count": 3,
   "metadata": {},
   "outputs": [
    {
     "data": {
      "text/plain": [
       "[]"
      ]
     },
     "execution_count": 3,
     "metadata": {},
     "output_type": "execute_result"
    }
   ],
   "source": [
    "sql_command(\"\"\"CREATE TABLE goods (symbol STRING, \n",
    "    name STRING, \n",
    "    volume_per_unit INT);\n",
    "\"\"\")"
   ]
  },
  {
   "cell_type": "code",
   "execution_count": 4,
   "metadata": {},
   "outputs": [
    {
     "data": {
      "text/plain": [
       "[]"
      ]
     },
     "execution_count": 4,
     "metadata": {},
     "output_type": "execute_result"
    }
   ],
   "source": [
    "sql_command(\"drop table markets\")"
   ]
  },
  {
   "cell_type": "code",
   "execution_count": 5,
   "metadata": {},
   "outputs": [
    {
     "data": {
      "text/plain": [
       "[]"
      ]
     },
     "execution_count": 5,
     "metadata": {},
     "output_type": "execute_result"
    }
   ],
   "source": [
    "sql_command(\"\"\"CREATE TABLE markets (date DATE, \n",
    "    location_id STRING, \n",
    "    good STRING, \n",
    "    price_per_unit INT, \n",
    "    purchace_price STRING, \n",
    "    sell_price INT, \n",
    "    spread INT,\n",
    "    quantity_available INT);\n",
    "\"\"\")"
   ]
  },
  {
   "cell_type": "code",
   "execution_count": 17,
   "metadata": {},
   "outputs": [],
   "source": [
    "for good in get_available_goods()['goods']:\n",
    "    \n",
    "\n",
    "    string = f\"\"\"INSERT INTO goods (symbol, name, volume_per_unit) VALUES (\"{good['symbol']}\", \"{good['name']}\", {good['volumePerUnit']});\"\"\"\n",
    "    sql_command(string)"
   ]
  },
  {
   "cell_type": "code",
   "execution_count": 5,
   "metadata": {},
   "outputs": [],
   "source": [
    "for ship in get_ships():\n",
    "\n",
    "    string = f\"\"\"INSERT INTO ships (id, type, class, maxCargo, loadingSpeed, speed, manufacturer, plating, weapons) VALUES (\n",
    "        \"{ship['id']}\",\n",
    "        \"{ship['type']}\", \n",
    "        \"{ship['class']}\", \n",
    "        {ship['maxCargo']}, \n",
    "        {ship['loadingSpeed']}, \n",
    "        {ship['speed']}, \n",
    "        \"{ship['manufacturer']}\",\n",
    "        {ship['plating']},\n",
    "        {ship['weapons']}\n",
    "    );\"\"\"\n",
    "    sql_command(string)\n",
    "    conn.commit()"
   ]
  },
  {
   "cell_type": "code",
   "execution_count": 3,
   "metadata": {},
   "outputs": [
    {
     "data": {
      "text/plain": [
       "[{'id': 'cl55thau617774315s68iz3fpjj',\n",
       "  'location': 'OE-KO',\n",
       "  'x': -49,\n",
       "  'y': 1,\n",
       "  'cargo': [{'good': 'FUEL', 'quantity': 31, 'totalVolume': 31}],\n",
       "  'spaceAvailable': 19,\n",
       "  'type': 'JW-MK-I',\n",
       "  'class': 'MK-I',\n",
       "  'maxCargo': 50,\n",
       "  'loadingSpeed': 25,\n",
       "  'speed': 1,\n",
       "  'manufacturer': 'Jackshaw',\n",
       "  'plating': 5,\n",
       "  'weapons': 5},\n",
       " {'id': 'cl58tw4u525771615s6bnh9pips',\n",
       "  'location': 'OE-PM-TR',\n",
       "  'x': -20,\n",
       "  'y': 5,\n",
       "  'cargo': [{'good': 'METALS', 'quantity': 55, 'totalVolume': 55},\n",
       "   {'good': 'FUEL', 'quantity': 20, 'totalVolume': 20}],\n",
       "  'spaceAvailable': 25,\n",
       "  'type': 'GR-MK-I',\n",
       "  'class': 'MK-I',\n",
       "  'maxCargo': 100,\n",
       "  'loadingSpeed': 100,\n",
       "  'speed': 1,\n",
       "  'manufacturer': 'Gravager',\n",
       "  'plating': 10,\n",
       "  'weapons': 5}]"
      ]
     },
     "execution_count": 3,
     "metadata": {},
     "output_type": "execute_result"
    }
   ],
   "source": [
    "get_ships()"
   ]
  },
  {
   "cell_type": "code",
   "execution_count": 23,
   "metadata": {},
   "outputs": [],
   "source": [
    "for location in get_system_locations('OE'):\n",
    "    id = location['symbol']\n",
    "    type = location['type']\n",
    "    name = location['name']\n",
    "    x = location['x']\n",
    "    y = location['y']\n",
    "    allows_construction = location['allowsConstruction']\n",
    "    traits = \" \".join(location['traits'])\n",
    "    string = f\"\"\"INSERT INTO locations (id, type, name, X, Y, allows_construction, traits) VALUES (\"{id}\", \"{type}\", \"{name}\", {x}, {y}, {allows_construction}, \"{traits}\");\"\"\"\n",
    "    sql_command(string)\n",
    "conn.commit()"
   ]
  },
  {
   "cell_type": "code",
   "execution_count": 13,
   "metadata": {},
   "outputs": [
    {
     "ename": "TypeError",
     "evalue": "'datetime.datetime' object is not iterable",
     "output_type": "error",
     "traceback": [
      "\u001b[1;31m---------------------------------------------------------------------------\u001b[0m",
      "\u001b[1;31mTypeError\u001b[0m                                 Traceback (most recent call last)",
      "\u001b[1;32mc:\\Users\\geekc\\Desktop\\SpaceTraders\\SpaceTraders\\skunkworks.ipynb Cell 13\u001b[0m in \u001b[0;36m<cell line: 2>\u001b[1;34m()\u001b[0m\n\u001b[0;32m      <a href='vscode-notebook-cell:/c%3A/Users/geekc/Desktop/SpaceTraders/SpaceTraders/skunkworks.ipynb#ch0000015?line=0'>1</a>\u001b[0m \u001b[39mimport\u001b[39;00m \u001b[39mdatetime\u001b[39;00m\n\u001b[1;32m----> <a href='vscode-notebook-cell:/c%3A/Users/geekc/Desktop/SpaceTraders/SpaceTraders/skunkworks.ipynb#ch0000015?line=1'>2</a>\u001b[0m \u001b[39mlist\u001b[39;49m(datetime\u001b[39m.\u001b[39;49mdatetime\u001b[39m.\u001b[39;49mnow())\n",
      "\u001b[1;31mTypeError\u001b[0m: 'datetime.datetime' object is not iterable"
     ]
    }
   ],
   "source": [
    "import datetime\n"
   ]
  },
  {
   "cell_type": "code",
   "execution_count": 22,
   "metadata": {},
   "outputs": [
    {
     "data": {
      "text/plain": [
       "'2022-7-14-12:40:22'"
      ]
     },
     "execution_count": 22,
     "metadata": {},
     "output_type": "execute_result"
    }
   ],
   "source": [
    "ts = datetime.datetime.now()\n",
    "f\"{ts.year}-{ts.month}-{ts.day}-{ts.hour}:{ts.minute}:{ts.second}\""
   ]
  },
  {
   "cell_type": "code",
   "execution_count": 9,
   "metadata": {},
   "outputs": [
    {
     "ename": "OperationalError",
     "evalue": "near \"17\": syntax error",
     "output_type": "error",
     "traceback": [
      "\u001b[1;31m---------------------------------------------------------------------------\u001b[0m",
      "\u001b[1;31mOperationalError\u001b[0m                          Traceback (most recent call last)",
      "\u001b[1;32mc:\\Users\\kayla\\Desktop\\SpaceTraders\\SpaceTraders\\skunkworks.ipynb Cell 21\u001b[0m in \u001b[0;36m<cell line: 5>\u001b[1;34m()\u001b[0m\n\u001b[0;32m     <a href='vscode-notebook-cell:/c%3A/Users/kayla/Desktop/SpaceTraders/SpaceTraders/skunkworks.ipynb#ch0000019?line=11'>12</a>\u001b[0m     spread \u001b[39m=\u001b[39m good[\u001b[39m'\u001b[39m\u001b[39mspread\u001b[39m\u001b[39m'\u001b[39m]\n\u001b[0;32m     <a href='vscode-notebook-cell:/c%3A/Users/kayla/Desktop/SpaceTraders/SpaceTraders/skunkworks.ipynb#ch0000019?line=12'>13</a>\u001b[0m     string \u001b[39m=\u001b[39m \u001b[39mf\u001b[39m\u001b[39m\"\"\"\u001b[39m\u001b[39mINSERT INTO markets (date, location_id, good, price_per_unit, purchace_price, sell_price, spread, quantity_available) VALUES (\u001b[39m\n\u001b[0;32m     <a href='vscode-notebook-cell:/c%3A/Users/kayla/Desktop/SpaceTraders/SpaceTraders/skunkworks.ipynb#ch0000019?line=13'>14</a>\u001b[0m \u001b[39m        \u001b[39m\u001b[39m{\u001b[39;00mdate\u001b[39m}\u001b[39;00m\u001b[39m, \u001b[39m\u001b[39m\"\u001b[39m\u001b[39m{\u001b[39;00mlocation_id\u001b[39m}\u001b[39;00m\u001b[39m\"\u001b[39m\u001b[39m, \u001b[39m\u001b[39m\"\u001b[39m\u001b[39m{\u001b[39;00mname\u001b[39m}\u001b[39;00m\u001b[39m\"\u001b[39m\u001b[39m, \u001b[39m\u001b[39m{\u001b[39;00mppu\u001b[39m}\u001b[39;00m\u001b[39m, \u001b[39m\u001b[39m{\u001b[39;00mpppu\u001b[39m}\u001b[39;00m\u001b[39m, \u001b[39m\u001b[39m{\u001b[39;00msppu\u001b[39m}\u001b[39;00m\u001b[39m, \u001b[39m\u001b[39m{\u001b[39;00mspread\u001b[39m}\u001b[39;00m\u001b[39m, \u001b[39m\u001b[39m{\u001b[39;00mquant\u001b[39m}\u001b[39;00m\u001b[39m);\u001b[39m\u001b[39m\"\"\"\u001b[39m\n\u001b[1;32m---> <a href='vscode-notebook-cell:/c%3A/Users/kayla/Desktop/SpaceTraders/SpaceTraders/skunkworks.ipynb#ch0000019?line=14'>15</a>\u001b[0m     sql_command(string)\n\u001b[0;32m     <a href='vscode-notebook-cell:/c%3A/Users/kayla/Desktop/SpaceTraders/SpaceTraders/skunkworks.ipynb#ch0000019?line=15'>16</a>\u001b[0m conn\u001b[39m.\u001b[39mcommit()\n",
      "\u001b[1;32mc:\\Users\\kayla\\Desktop\\SpaceTraders\\SpaceTraders\\skunkworks.ipynb Cell 21\u001b[0m in \u001b[0;36msql_command\u001b[1;34m(command)\u001b[0m\n\u001b[0;32m      <a href='vscode-notebook-cell:/c%3A/Users/kayla/Desktop/SpaceTraders/SpaceTraders/skunkworks.ipynb#ch0000019?line=6'>7</a>\u001b[0m \u001b[39mdef\u001b[39;00m \u001b[39msql_command\u001b[39m(command):\n\u001b[1;32m----> <a href='vscode-notebook-cell:/c%3A/Users/kayla/Desktop/SpaceTraders/SpaceTraders/skunkworks.ipynb#ch0000019?line=7'>8</a>\u001b[0m     \u001b[39mreturn\u001b[39;00m cursor\u001b[39m.\u001b[39;49mexecute(command)\n",
      "\u001b[1;31mOperationalError\u001b[0m: near \"17\": syntax error"
     ]
    }
   ],
   "source": [
    "import datetime\n",
    "system = 'OE-KO'\n",
    "ts = datetime.datetime.now()\n",
    "date = f\"{ts.year}-{ts.month}-{ts.day} {ts.hour}:{ts.minute}:{ts.second}\"\n",
    "for good in get_market_data(system)['marketplace']:\n",
    "    location_id = system\n",
    "    name = good['symbol']\n",
    "    ppu = good['pricePerUnit']\n",
    "    pppu = good['purchasePricePerUnit']\n",
    "    sppu = good['sellPricePerUnit']\n",
    "    quant = good['quantityAvailable']\n",
    "    spread = good['spread']\n",
    "    string = f\"\"\"INSERT INTO markets (date, location_id, good, price_per_unit, purchace_price, sell_price, spread, quantity_available) VALUES (\n",
    "        {date}, \"{location_id}\", \"{name}\", {ppu}, {pppu}, {sppu}, {spread}, {quant});\"\"\"\n",
    "    sql_command(string)\n",
    "conn.commit()"
   ]
  },
  {
   "cell_type": "code",
   "execution_count": 24,
   "metadata": {},
   "outputs": [
    {
     "data": {
      "text/plain": [
       "{'marketplace': [{'symbol': 'CONSTRUCTION_MATERIALS',\n",
       "   'volumePerUnit': 1,\n",
       "   'pricePerUnit': 30,\n",
       "   'spread': 3,\n",
       "   'purchasePricePerUnit': 33,\n",
       "   'sellPricePerUnit': 27,\n",
       "   'quantityAvailable': 70610},\n",
       "  {'symbol': 'FUEL',\n",
       "   'volumePerUnit': 1,\n",
       "   'pricePerUnit': 2,\n",
       "   'spread': 1,\n",
       "   'purchasePricePerUnit': 3,\n",
       "   'sellPricePerUnit': 1,\n",
       "   'quantityAvailable': 92873},\n",
       "  {'symbol': 'CHEMICALS',\n",
       "   'volumePerUnit': 1,\n",
       "   'pricePerUnit': 44,\n",
       "   'spread': 1,\n",
       "   'purchasePricePerUnit': 45,\n",
       "   'sellPricePerUnit': 43,\n",
       "   'quantityAvailable': 8},\n",
       "  {'symbol': 'CONSUMER_GOODS',\n",
       "   'volumePerUnit': 1,\n",
       "   'pricePerUnit': 15,\n",
       "   'spread': 4,\n",
       "   'purchasePricePerUnit': 19,\n",
       "   'sellPricePerUnit': 11,\n",
       "   'quantityAvailable': 43307},\n",
       "  {'symbol': 'METALS',\n",
       "   'volumePerUnit': 1,\n",
       "   'pricePerUnit': 42,\n",
       "   'spread': 1,\n",
       "   'purchasePricePerUnit': 43,\n",
       "   'sellPricePerUnit': 41,\n",
       "   'quantityAvailable': 0},\n",
       "  {'symbol': 'EXPLOSIVES',\n",
       "   'volumePerUnit': 1,\n",
       "   'pricePerUnit': 12,\n",
       "   'spread': 2,\n",
       "   'purchasePricePerUnit': 14,\n",
       "   'sellPricePerUnit': 10,\n",
       "   'quantityAvailable': 77150},\n",
       "  {'symbol': 'FOOD',\n",
       "   'volumePerUnit': 1,\n",
       "   'pricePerUnit': 35,\n",
       "   'spread': 1,\n",
       "   'purchasePricePerUnit': 36,\n",
       "   'sellPricePerUnit': 34,\n",
       "   'quantityAvailable': 10}]}"
      ]
     },
     "execution_count": 24,
     "metadata": {},
     "output_type": "execute_result"
    }
   ],
   "source": [
    "get_market_data('OE-KO')"
   ]
  },
  {
   "cell_type": "code",
   "execution_count": null,
   "metadata": {},
   "outputs": [],
   "source": []
  }
 ],
 "metadata": {
  "kernelspec": {
   "display_name": "Python 3.10.5 64-bit",
   "language": "python",
   "name": "python3"
  },
  "language_info": {
   "codemirror_mode": {
    "name": "ipython",
    "version": 3
   },
   "file_extension": ".py",
   "mimetype": "text/x-python",
   "name": "python",
   "nbconvert_exporter": "python",
   "pygments_lexer": "ipython3",
   "version": "3.10.5"
  },
  "orig_nbformat": 4,
  "vscode": {
   "interpreter": {
    "hash": "7f74b51f2d10289df44687f68b30f146cd95e73fa8354e6ca51e241054f026d5"
   }
  }
 },
 "nbformat": 4,
 "nbformat_minor": 2
}
