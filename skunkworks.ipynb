{
 "cells": [
  {
   "cell_type": "code",
   "execution_count": 9,
   "metadata": {},
   "outputs": [],
   "source": [
    "from spacebase import *\n",
    "import sqlite3\n",
    "\n",
    "conn = sqlite3.connect('./spacetraders.db')\n",
    "cursor = conn.cursor()\n",
    "\n",
    "def sql_command(command):\n",
    "    return cursor.execute(command)"
   ]
  },
  {
   "cell_type": "code",
   "execution_count": 10,
   "metadata": {},
   "outputs": [
    {
     "data": {
      "text/plain": [
       "<sqlite3.Cursor at 0x211ffcacbc0>"
      ]
     },
     "execution_count": 10,
     "metadata": {},
     "output_type": "execute_result"
    }
   ],
   "source": [
    "sql_command('drop table ships')\n",
    "sql_command(\"\"\"CREATE TABLE ships (id STRING PRIMARY KEY, \n",
    "    last_location STRING, \n",
    "    last_flightplan STRING, \n",
    "    X INT, \n",
    "    Y INT, \n",
    "    space_available INT, \n",
    "    type STRING, \n",
    "    class STRING,\n",
    "    max_cargo INT, \n",
    "    loading_speed INT,\n",
    "    speed INT,\n",
    "    manufacturer STRING,\n",
    "    plating INT,\n",
    "weapons INT);\n",
    "\"\"\")"
   ]
  },
  {
   "cell_type": "code",
   "execution_count": 11,
   "metadata": {},
   "outputs": [
    {
     "data": {
      "text/plain": [
       "<sqlite3.Cursor at 0x211ffcacbc0>"
      ]
     },
     "execution_count": 11,
     "metadata": {},
     "output_type": "execute_result"
    }
   ],
   "source": [
    "sql_command('drop table cargo')"
   ]
  },
  {
   "cell_type": "code",
   "execution_count": 12,
   "metadata": {},
   "outputs": [
    {
     "data": {
      "text/plain": [
       "<sqlite3.Cursor at 0x211ffcacbc0>"
      ]
     },
     "execution_count": 12,
     "metadata": {},
     "output_type": "execute_result"
    }
   ],
   "source": [
    "sql_command(\"\"\"CREATE TABLE cargo (ship_id STRING,\n",
    "    good STRING,\n",
    "    quantity INT);\n",
    "\"\"\")"
   ]
  },
  {
   "cell_type": "code",
   "execution_count": 14,
   "metadata": {},
   "outputs": [
    {
     "data": {
      "text/plain": [
       "<sqlite3.Cursor at 0x211ffcacbc0>"
      ]
     },
     "execution_count": 14,
     "metadata": {},
     "output_type": "execute_result"
    }
   ],
   "source": [
    "sql_command(\"drop table flightplans\")\n",
    "sql_command(\"\"\"CREATE TABLE flightplans (id STRING PRIMARY KEY, \n",
    "    ship_id STRING, \n",
    "    created_at DATE, \n",
    "    arrives_at DATE, \n",
    "    destination STRING, \n",
    "    departure STRING, \n",
    "    distance INT, \n",
    "    fuel_consumed INT,\n",
    "    fuel_remaining INT, \n",
    "    terminated_at DATE,\n",
    "    seconds_remaining INT);\n",
    "\"\"\")"
   ]
  },
  {
   "cell_type": "code",
   "execution_count": 8,
   "metadata": {},
   "outputs": [
    {
     "data": {
      "text/plain": [
       "[]"
      ]
     },
     "execution_count": 8,
     "metadata": {},
     "output_type": "execute_result"
    }
   ],
   "source": [
    "sql_command(\"\"\"CREATE TABLE locations (id STRING PRIMARY KEY, \n",
    "    type STRING, \n",
    "    name STRING, \n",
    "    X INT, \n",
    "    Y INT, \n",
    "    allows_construction BOOL, \n",
    "    traits STRING);\n",
    "\"\"\")"
   ]
  },
  {
   "cell_type": "code",
   "execution_count": 3,
   "metadata": {},
   "outputs": [
    {
     "data": {
      "text/plain": [
       "[]"
      ]
     },
     "execution_count": 3,
     "metadata": {},
     "output_type": "execute_result"
    }
   ],
   "source": [
    "sql_command(\"\"\"CREATE TABLE goods (symbol STRING, \n",
    "    name STRING, \n",
    "    volume_per_unit INT);\n",
    "\"\"\")"
   ]
  },
  {
   "cell_type": "code",
   "execution_count": 4,
   "metadata": {},
   "outputs": [
    {
     "data": {
      "text/plain": [
       "[]"
      ]
     },
     "execution_count": 4,
     "metadata": {},
     "output_type": "execute_result"
    }
   ],
   "source": [
    "sql_command(\"drop table markets\")"
   ]
  },
  {
   "cell_type": "code",
   "execution_count": 5,
   "metadata": {},
   "outputs": [
    {
     "data": {
      "text/plain": [
       "[]"
      ]
     },
     "execution_count": 5,
     "metadata": {},
     "output_type": "execute_result"
    }
   ],
   "source": [
    "sql_command(\"\"\"CREATE TABLE markets (date DATE, \n",
    "    location_id STRING, \n",
    "    good STRING, \n",
    "    price_per_unit INT, \n",
    "    purchace_price STRING, \n",
    "    sell_price INT, \n",
    "    spread INT,\n",
    "    quantity_available INT);\n",
    "\"\"\")"
   ]
  },
  {
   "cell_type": "code",
   "execution_count": 17,
   "metadata": {},
   "outputs": [],
   "source": [
    "for good in get_available_goods()['goods']:\n",
    "    \n",
    "\n",
    "    string = f\"\"\"INSERT INTO goods (symbol, name, volume_per_unit) VALUES (\"{good['symbol']}\", \"{good['name']}\", {good['volumePerUnit']});\"\"\"\n",
    "    sql_command(string)"
   ]
  },
  {
   "cell_type": "code",
   "execution_count": 23,
   "metadata": {},
   "outputs": [],
   "source": [
    "for location in get_system_locations('OE'):\n",
    "    id = location['symbol']\n",
    "    type = location['type']\n",
    "    name = location['name']\n",
    "    x = location['x']\n",
    "    y = location['y']\n",
    "    allows_construction = location['allowsConstruction']\n",
    "    traits = \" \".join(location['traits'])\n",
    "    string = f\"\"\"INSERT INTO locations (id, type, name, X, Y, allows_construction, traits) VALUES (\"{id}\", \"{type}\", \"{name}\", {x}, {y}, {allows_construction}, \"{traits}\");\"\"\"\n",
    "    sql_command(string)\n",
    "conn.commit()"
   ]
  },
  {
   "cell_type": "code",
   "execution_count": 21,
   "metadata": {},
   "outputs": [],
   "source": [
    "conn.commit()"
   ]
  },
  {
   "cell_type": "code",
   "execution_count": 19,
   "metadata": {},
   "outputs": [
    {
     "data": {
      "text/plain": [
       "[('FUEL', 'Fuel', 1),\n",
       " ('CHEMICALS', 'Chemicals', 1),\n",
       " ('METALS', 'Metals', 1),\n",
       " ('DRONES', 'Drones', 1),\n",
       " ('TEXTILES', 'Textiles', 1),\n",
       " ('FOOD', 'Food', 1),\n",
       " ('CONSUMER_GOODS', 'Consumer Goods', 1),\n",
       " ('NARCOTICS', 'Narcotics', 1),\n",
       " ('RARE_METALS', 'Rare Metals', 1),\n",
       " ('EXPLOSIVES', 'Explosives', 1),\n",
       " ('SHIP_PARTS', 'Ship Parts', 4),\n",
       " ('ELECTRONICS', 'Electronics', 1),\n",
       " ('MACHINERY', 'Machinery', 2),\n",
       " ('CONSTRUCTION_MATERIALS', 'Construction Materials', 1),\n",
       " ('SHIP_PLATING', 'Ship Plating', 2),\n",
       " ('NANOBOTS', 'Nanobots', 1),\n",
       " ('RESEARCH', 'Research', 1),\n",
       " ('PRECISION_INSTRUMENTS', 'Precision Instruments', 1),\n",
       " ('BIOMETRIC_FIREARMS', 'Biometric Firearms', 1),\n",
       " ('UNSTABLE_COMPOUNDS', 'Unstable Compounds', 3),\n",
       " ('PROTEIN_SYNTHESIZERS', 'Protein Synthesizers', 1),\n",
       " ('FUSION_REACTORS', 'Fusion Reactors', 6),\n",
       " ('ZUCO_CRYSTALS', 'Zuco Crystals', 1),\n",
       " ('EXOTIC_PLASMA', 'Exotic Plasma', 4)]"
      ]
     },
     "execution_count": 19,
     "metadata": {},
     "output_type": "execute_result"
    }
   ],
   "source": [
    "sql_command('SELECT * FROM goods').fetchall()"
   ]
  },
  {
   "cell_type": "code",
   "execution_count": null,
   "metadata": {},
   "outputs": [],
   "source": []
  }
 ],
 "metadata": {
  "kernelspec": {
   "display_name": "Python 3.10.5 64-bit",
   "language": "python",
   "name": "python3"
  },
  "language_info": {
   "codemirror_mode": {
    "name": "ipython",
    "version": 3
   },
   "file_extension": ".py",
   "mimetype": "text/x-python",
   "name": "python",
   "nbconvert_exporter": "python",
   "pygments_lexer": "ipython3",
   "version": "3.10.5"
  },
  "orig_nbformat": 4,
  "vscode": {
   "interpreter": {
    "hash": "300fbccfaa1afd04bb86653fbdee52f26c731e37f5150715ebdacf05ee18f2ba"
   }
  }
 },
 "nbformat": 4,
 "nbformat_minor": 2
}
